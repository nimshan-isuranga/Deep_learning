{
  "nbformat": 4,
  "nbformat_minor": 0,
  "metadata": {
    "colab": {
      "provenance": []
    },
    "kernelspec": {
      "name": "python3",
      "display_name": "Python 3"
    },
    "language_info": {
      "name": "python"
    }
  },
  "cells": [
    {
      "cell_type": "code",
      "execution_count": 3,
      "metadata": {
        "id": "xsldqn2hvCz8"
      },
      "outputs": [],
      "source": [
        "import string \n",
        "from collections import Counter \n",
        "\n",
        "import matplotlib.pyplot as plt\n",
        "from nltk.corpus import stopwords\n",
        "from nltk.sentiment.vader import SentimentIntensityAnalyzer\n",
        "from nltk.stem import WordNetLemmatizer\n",
        "from nltk.tokenize import word_tokenize"
      ]
    },
    {
      "cell_type": "code",
      "source": [
        "text=open(\"message.txt\",encoding=\"utf-8\").read()\n",
        "data=text.lower()\n",
        "data"
      ],
      "metadata": {
        "id": "J4PTNcptxKLB",
        "colab": {
          "base_uri": "https://localhost:8080/",
          "height": 123
        },
        "outputId": "163a9bc5-a34c-4275-8b9f-cccba99fc3ad"
      },
      "execution_count": 12,
      "outputs": [
        {
          "output_type": "execute_result",
          "data": {
            "text/plain": [
              "'i am honored to be with you today at your commencement from one of the finest universities in the world. i never graduated from college. truth be told, this is the closest i’ve ever gotten to a college graduation. today i want to tell you three stories from my life. that’s it. no big deal. just three stories.\\n\\nrelated to this story\\n2005 stanford commencement coverage\\nthe first story is about connecting the dots.\\n\\ni dropped out of reed college after the first 6 months, but then stayed around as a drop-in for another 18 months or so before i really quit. so why did i drop out?\\n\\nit started before i was born. my biological mother was a young, unwed college graduate student, and she decided to put me up for adoption. she felt very strongly that i should be adopted by college graduates, so everything was all set for me to be adopted at birth by a lawyer and his wife. except that when i popped out they decided at the last minute that they really wanted a girl. so my parents, who were on a waiting list, got a call in the middle of the night asking: “we have an unexpected baby boy; do you want him?” they said: “of course.” my biological mother later found out that my mother had never graduated from college and that my father had never graduated from high school. she refused to sign the final adoption papers. she only relented a few months later when my parents promised that i would someday go to college.\\n\\nand 17 years later i did go to college. but i naively chose a college that was almost as expensive as stanford, and all of my working-class parents’ savings were being spent on my college tuition. after six months, i couldn’t see the value in it. i had no idea what i wanted to do with my life and no idea how college was going to help me figure it out. and here i was spending all of the money my parents had saved their entire life. so i decided to drop out and trust that it would all work out ok. it was pretty scary at the time, but looking back it was one of the best decisions i ever made. the minute i dropped out i could stop taking the required classes that didn’t interest me, and begin dropping in on the ones that looked interesting.\\n\\nit wasn’t all romantic. i didn’t have a dorm room, so i slept on the floor in friends’ rooms, i returned coke bottles for the 5¢ deposits to buy food with, and i would walk the 7 miles across town every sunday night to get one good meal a week at the hare krishna temple. i loved it. and much of what i stumbled into by following my curiosity and intuition turned out to be priceless later on. let me give you one example:\\n\\nreed college at that time offered perhaps the best calligraphy instruction in the country. throughout the campus every poster, every label on every drawer, was beautifully hand calligraphed. because i had dropped out and didn’t have to take the normal classes, i decided to take a calligraphy class to learn how to do this. i learned about serif and sans serif typefaces, about varying the amount of space between different letter combinations, about what makes great typography great. it was beautiful, historical, artistically subtle in a way that science can’t capture, and i found it fascinating.\\n\\nnone of this had even a hope of any practical application in my life. but 10 years later, when we were designing the first macintosh computer, it all came back to me. and we designed it all into the mac. it was the first computer with beautiful typography. if i had never dropped in on that single course in college, the mac would have never had multiple typefaces or proportionally spaced fonts. and since windows just copied the mac, it’s likely that no personal computer would have them. if i had never dropped out, i would have never dropped in on this calligraphy class, and personal computers might not have the wonderful typography that they do. of course it was impossible to connect the dots looking forward when i was in college. but it was very, very clear looking backward 10 years later.\\n\\nagain, you can’t connect the dots looking forward; you can only connect them looking backward. so you have to trust that the dots will somehow connect in your future. you have to trust in something — your gut, destiny, life, karma, whatever. this approach has never let me down, and it has made all the difference in my life.\\n\\nmy second story is about love and loss.\\n\\ni was lucky — i found what i loved to do early in life. woz and i started apple in my parents’ garage when i was 20. we worked hard, and in 10 years apple had grown from just the two of us in a garage into a $2 billion company with over 4,000 employees. we had just released our finest creation — the macintosh — a year earlier, and i had just turned 30. and then i got fired. how can you get fired from a company you started? well, as apple grew we hired someone who i thought was very talented to run the company with me, and for the first year or so things went well. but then our visions of the future began to diverge and eventually we had a falling out. when we did, our board of directors sided with him. so at 30 i was out. and very publicly out. what had been the focus of my entire adult life was gone, and it was devastating.\\n\\ni really didn’t know what to do for a few months. i felt that i had let the previous generation of entrepreneurs down — that i had dropped the baton as it was being passed to me. i met with david packard and bob noyce and tried to apologize for screwing up so badly. i was a very public failure, and i even thought about running away from the valley. but something slowly began to dawn on me — i still loved what i did. the turn of events at apple had not changed that one bit. i had been rejected, but i was still in love. and so i decided to start over.\\n\\ni didn’t see it then, but it turned out that getting fired from apple was the best thing that could have ever happened to me. the heaviness of being successful was replaced by the lightness of being a beginner again, less sure about everything. it freed me to enter one of the most creative periods of my life.\\n\\nduring the next five years, i started a company named next, another company named pixar, and fell in love with an amazing woman who would become my wife. pixar went on to create the world’s first computer animated feature film, toy story, and is now the most successful animation studio in the world. in a remarkable turn of events, apple bought next, i returned to apple, and the technology we developed at next is at the heart of apple’s current renaissance. and laurene and i have a wonderful family together.\\n\\ni’m pretty sure none of this would have happened if i hadn’t been fired from apple. it was awful tasting medicine, but i guess the patient needed it. sometimes life hits you in the head with a brick. don’t lose faith. i’m convinced that the only thing that kept me going was that i loved what i did. you’ve got to find what you love. and that is as true for your work as it is for your lovers. your work is going to fill a large part of your life, and the only way to be truly satisfied is to do what you believe is great work. and the only way to do great work is to love what you do. if you haven’t found it yet, keep looking. don’t settle. as with all matters of the heart, you’ll know when you find it. and, like any great relationship, it just gets better and better as the years roll on. so keep looking until you find it. don’t settle.\\n\\nmy third story is about death.\\n\\nwhen i was 17, i read a quote that went something like: “if you live each day as if it was your last, someday you’ll most certainly be right.” it made an impression on me, and since then, for the past 33 years, i have looked in the mirror every morning and asked myself: “if today were the last day of my life, would i want to do what i am about to do today?” and whenever the answer has been “no” for too many days in a row, i know i need to change something.\\n\\nremembering that i’ll be dead soon is the most important tool i’ve ever encountered to help me make the big choices in life. because almost everything — all external expectations, all pride, all fear of embarrassment or failure — these things just fall away in the face of death, leaving only what is truly important. remembering that you are going to die is the best way i know to avoid the trap of thinking you have something to lose. you are already naked. there is no reason not to follow your heart.\\n\\nabout a year ago i was diagnosed with cancer. i had a scan at 7:30 in the morning, and it clearly showed a tumor on my pancreas. i didn’t even know what a pancreas was. the doctors told me this was almost certainly a type of cancer that is incurable, and that i should expect to live no longer than three to six months. my doctor advised me to go home and get my affairs in order, which is doctor’s code for prepare to die. it means to try to tell your kids everything you thought you’d have the next 10 years to tell them in just a few months. it means to make sure everything is buttoned up so that it will be as easy as possible for your family. it means to say your goodbyes.\\n\\ni lived with that diagnosis all day. later that evening i had a biopsy, where they stuck an endoscope down my throat, through my stomach and into my intestines, put a needle into my pancreas and got a few cells from the tumor. i was sedated, but my wife, who was there, told me that when they viewed the cells under a microscope the doctors started crying because it turned out to be a very rare form of pancreatic cancer that is curable with surgery. i had the surgery and i’m fine now.\\n\\nthis was the closest i’ve been to facing death, and i hope it’s the closest i get for a few more decades. having lived through it, i can now say this to you with a bit more certainty than when death was a useful but purely intellectual concept:\\n\\nno one wants to die. even people who want to go to heaven don’t want to die to get there. and yet death is the destination we all share. no one has ever escaped it. and that is as it should be, because death is very likely the single best invention of life. it is life’s change agent. it clears out the old to make way for the new. right now the new is you, but someday not too long from now, you will gradually become the old and be cleared away. sorry to be so dramatic, but it is quite true.\\n\\nyour time is limited, so don’t waste it living someone else’s life. don’t be trapped by dogma — which is living with the results of other people’s thinking. don’t let the noise of others’ opinions drown out your own inner voice. and most important, have the courage to follow your heart and intuition. they somehow already know what you truly want to become. everything else is secondary.\\n\\nwhen i was young, there was an amazing publication called the whole earth catalog, which was one of the bibles of my generation. it was created by a fellow named stewart brand not far from here in menlo park, and he brought it to life with his poetic touch. this was in the late 1960s, before personal computers and desktop publishing, so it was all made with typewriters, scissors and polaroid cameras. it was sort of like google in paperback form, 35 years before google came along: it was idealistic, and overflowing with neat tools and great notions.\\n\\nstewart and his team put out several issues of the whole earth catalog, and then when it had run its course, they put out a final issue. it was the mid-1970s, and i was your age. on the back cover of their final issue was a photograph of an early morning country road, the kind you might find yourself hitchhiking on if you were so adventurous. beneath it were the words: “stay hungry. stay foolish.” it was their farewell message as they signed off. stay hungry. stay foolish. and i have always wished that for myself. and now, as you graduate to begin anew, i wish that for you.\\n\\nstay hungry. stay foolish.\\n\\nthank you all very much.'"
            ],
            "application/vnd.google.colaboratory.intrinsic+json": {
              "type": "string"
            }
          },
          "metadata": {},
          "execution_count": 12
        }
      ]
    },
    {
      "cell_type": "code",
      "source": [
        "import nltk\n",
        "nltk.download('punkt')\n",
        "nltk.download('stopwords')\n",
        "tokenized_words=word_tokenize(data,\"english\")"
      ],
      "metadata": {
        "id": "OzUEVmE9xKIj"
      },
      "execution_count": null,
      "outputs": []
    },
    {
      "cell_type": "code",
      "source": [
        "# removing stop words\n",
        "final_words=[]\n",
        "for word in tokenized_words:\n",
        "  if word not in stopwords.words('english'):\n",
        "    final_words.append(word)"
      ],
      "metadata": {
        "id": "lsEfJLMixJxj"
      },
      "execution_count": 9,
      "outputs": []
    },
    {
      "cell_type": "code",
      "source": [
        "#lemmatization -from plural to singular base form (real english meaning)\n",
        "nltk.download('wordnet')\n",
        "nltk.download('omw-1.4')\n",
        "lemma_words=[]\n",
        "for word in final_words:\n",
        "  word=WordNetLemmatizer().lemmatize(word)\n",
        "  lemma_words.append(word)"
      ],
      "metadata": {
        "id": "qEhbBNohxKFD"
      },
      "execution_count": null,
      "outputs": []
    },
    {
      "cell_type": "code",
      "source": [
        "emotion_list=[]\n",
        "\n",
        "with open(\"emotion_details.txt\",'r') as file:\n",
        "  for line in file:\n",
        "    clear_line=line.replace(\"\\n\",'').replace(\",\",'').replace(\"'\",'').strip()\n",
        "    word,emotion = clear_line.split(':') # split by colon this is the word and this is the emtion\n",
        "\n",
        "    if word in lemma_words:\n",
        "      emotion_list.append(emotion)\n",
        "      \n",
        "print(emotion_list)\n",
        "w=Counter(emotion_list)\n",
        "print(w)"
      ],
      "metadata": {
        "colab": {
          "base_uri": "https://localhost:8080/"
        },
        "id": "LRbbyTiWxKAP",
        "outputId": "d430364e-ea38-4864-a4c3-f15d5393e97e"
      },
      "execution_count": 7,
      "outputs": [
        {
          "output_type": "stream",
          "name": "stdout",
          "text": [
            "[' happy', ' happy', ' attached', ' happy', ' attracted', ' alone', ' free', ' hated', ' happy', ' entitled', ' happy', ' loved', ' hated', ' entitled']\n",
            "Counter({' happy': 5, ' hated': 2, ' entitled': 2, ' attached': 1, ' attracted': 1, ' alone': 1, ' free': 1, ' loved': 1})\n"
          ]
        }
      ]
    },
    {
      "cell_type": "code",
      "source": [
        "score=SentimentIntensityAnalyzer().polarity_scores(data)\n",
        "score"
      ],
      "metadata": {
        "id": "yZad5a2GxJ3l",
        "colab": {
          "base_uri": "https://localhost:8080/"
        },
        "outputId": "e09dbc94-849d-4e2e-b8a2-b14c53b14f90"
      },
      "execution_count": 21,
      "outputs": [
        {
          "output_type": "execute_result",
          "data": {
            "text/plain": [
              "{'neg': 0.091, 'neu': 0.747, 'pos': 0.162, 'compound': 0.9996}"
            ]
          },
          "metadata": {},
          "execution_count": 21
        }
      ]
    },
    {
      "cell_type": "code",
      "source": [
        "def sentiment_analyse(sentiment_text):\n",
        "  score=SentimentIntensityAnalyzer().polarity_scores(sentiment_text)\n",
        "  if score['neg']>score['pos']:\n",
        "    print(\"negative sentiment\")\n",
        "  elif score['neg']<score['pos']:\n",
        "    print(\"postive sentiment\")\n",
        "  else :\n",
        "    print(\"Neutral Sentiment\")\n",
        "nltk.download('vader_lexicon')"
      ],
      "metadata": {
        "id": "NidCF4PixJvX",
        "colab": {
          "base_uri": "https://localhost:8080/"
        },
        "outputId": "11728d71-f4cb-4120-8236-1a034acd0ff0"
      },
      "execution_count": 22,
      "outputs": [
        {
          "output_type": "stream",
          "name": "stderr",
          "text": [
            "[nltk_data] Downloading package vader_lexicon to /root/nltk_data...\n",
            "[nltk_data]   Package vader_lexicon is already up-to-date!\n"
          ]
        },
        {
          "output_type": "execute_result",
          "data": {
            "text/plain": [
              "True"
            ]
          },
          "metadata": {},
          "execution_count": 22
        }
      ]
    },
    {
      "cell_type": "code",
      "source": [
        "sentiment_analyse(data)"
      ],
      "metadata": {
        "id": "V9XtClDhxJsj",
        "colab": {
          "base_uri": "https://localhost:8080/"
        },
        "outputId": "b3b6f9d6-3243-4655-cdc1-16725f141183"
      },
      "execution_count": 23,
      "outputs": [
        {
          "output_type": "stream",
          "name": "stdout",
          "text": [
            "postive sentiment\n"
          ]
        }
      ]
    },
    {
      "cell_type": "code",
      "source": [
        "w.keys()"
      ],
      "metadata": {
        "colab": {
          "base_uri": "https://localhost:8080/"
        },
        "id": "eHeP-dKW34_9",
        "outputId": "e9311df4-d257-4c97-f7a3-f58d8caed103"
      },
      "execution_count": 27,
      "outputs": [
        {
          "output_type": "execute_result",
          "data": {
            "text/plain": [
              "dict_keys([' happy', ' attached', ' attracted', ' alone', ' free', ' hated', ' entitled', ' loved'])"
            ]
          },
          "metadata": {},
          "execution_count": 27
        }
      ]
    },
    {
      "cell_type": "code",
      "source": [
        "w.values()"
      ],
      "metadata": {
        "colab": {
          "base_uri": "https://localhost:8080/"
        },
        "id": "ER6t4rue39e9",
        "outputId": "f8fdac4b-11cc-4784-a538-42263b51b91e"
      },
      "execution_count": 28,
      "outputs": [
        {
          "output_type": "execute_result",
          "data": {
            "text/plain": [
              "dict_values([5, 1, 1, 1, 1, 2, 2, 1])"
            ]
          },
          "metadata": {},
          "execution_count": 28
        }
      ]
    },
    {
      "cell_type": "code",
      "source": [
        "fig,ax1=plt.subplots()\n",
        "ax1.bar(w.keys(),w.values())\n",
        "fig.autofmt_xdate()\n",
        "plt.show()"
      ],
      "metadata": {
        "id": "ExwIJQmkxJp-",
        "colab": {
          "base_uri": "https://localhost:8080/",
          "height": 267
        },
        "outputId": "2006238d-172e-4bff-bcc5-e201a2804c58"
      },
      "execution_count": 26,
      "outputs": [
        {
          "output_type": "display_data",
          "data": {
            "text/plain": [
              "<Figure size 432x288 with 1 Axes>"
            ],
            "image/png": "[encoded data removed]"
          },
          "metadata": {
            "needs_background": "light"
          }
        }
      ]
    },
    {
      "cell_type": "code",
      "source": [],
      "metadata": {
        "id": "KFSD5592xJm0"
      },
      "execution_count": 7,
      "outputs": []
    },
    {
      "cell_type": "code",
      "source": [],
      "metadata": {
        "id": "HkkK4Sc0xJji"
      },
      "execution_count": 7,
      "outputs": []
    },
    {
      "cell_type": "code",
      "source": [],
      "metadata": {
        "id": "rQdk4ObWxJgJ"
      },
      "execution_count": 7,
      "outputs": []
    },
    {
      "cell_type": "code",
      "source": [],
      "metadata": {
        "id": "Dy4Vt4YH0VZc"
      },
      "execution_count": 7,
      "outputs": []
    },
    {
      "cell_type": "code",
      "source": [],
      "metadata": {
        "id": "73cmT-O70VWw"
      },
      "execution_count": 7,
      "outputs": []
    },
    {
      "cell_type": "code",
      "source": [],
      "metadata": {
        "id": "JwQAUVrb0VT8"
      },
      "execution_count": 7,
      "outputs": []
    },
    {
      "cell_type": "code",
      "source": [],
      "metadata": {
        "id": "A64bjoIM0VQ6"
      },
      "execution_count": 7,
      "outputs": []
    }
  ]
}