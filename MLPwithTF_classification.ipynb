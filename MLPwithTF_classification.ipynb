{
  "nbformat": 4,
  "nbformat_minor": 0,
  "metadata": {
    "colab": {
      "provenance": []
    },
    "kernelspec": {
      "name": "python3",
      "display_name": "Python 3"
    },
    "language_info": {
      "name": "python"
    }
  },
  "cells": [
    {
      "cell_type": "code",
      "execution_count": 44,
      "metadata": {
        "id": "F3VdgaMYjtnt"
      },
      "outputs": [],
      "source": [
        "import tensorflow \n",
        "from keras.models import Sequential\n",
        "from keras.layers import InputLayer,Dense\n",
        "from keras.optimizers import Adam\n",
        "import pandas as pd\n",
        "from sklearn.model_selection import train_test_split\n",
        "from sklearn.metrics import accuracy_score\n",
        "import numpy as np"
      ]
    },
    {
      "cell_type": "code",
      "source": [
        "data=pd.read_csv(\"Bank.csv\")\n",
        "data.head()"
      ],
      "metadata": {
        "colab": {
          "base_uri": "https://localhost:8080/",
          "height": 206
        },
        "id": "R_wiax4zkvqe",
        "outputId": "6da21c5e-55c6-4fa4-b727-d1b977d56605"
      },
      "execution_count": 30,
      "outputs": [
        {
          "output_type": "execute_result",
          "data": {
            "text/plain": [
              "   age  duration  emp_var_rate  cons_price_idx  cons_conf_idx  euribor3m  \\\n",
              "0   44       210           1.4          93.444          -36.1      4.963   \n",
              "1   53       138          -0.1          93.200          -42.0      4.021   \n",
              "2   28       339          -1.7          94.055          -39.8      0.729   \n",
              "3   39       185          -1.8          93.075          -47.1      1.405   \n",
              "4   55       137          -2.9          92.201          -31.4      0.869   \n",
              "\n",
              "   nr_employed  y  \n",
              "0       5228.1  0  \n",
              "1       5195.8  0  \n",
              "2       4991.6  1  \n",
              "3       5099.1  0  \n",
              "4       5076.2  1  "
            ],
            "text/html": [
              "\n",
              "  <div id=\"df-97c99b20-e3ad-481b-9109-2554ac35fc9b\">\n",
              "    <div class=\"colab-df-container\">\n",
              "      <div>\n",
              "<style scoped>\n",
              "    .dataframe tbody tr th:only-of-type {\n",
              "        vertical-align: middle;\n",
              "    }\n",
              "\n",
              "    .dataframe tbody tr th {\n",
              "        vertical-align: top;\n",
              "    }\n",
              "\n",
              "    .dataframe thead th {\n",
              "        text-align: right;\n",
              "    }\n",
              "</style>\n",
              "<table border=\"1\" class=\"dataframe\">\n",
              "  <thead>\n",
              "    <tr style=\"text-align: right;\">\n",
              "      <th></th>\n",
              "      <th>age</th>\n",
              "      <th>duration</th>\n",
              "      <th>emp_var_rate</th>\n",
              "      <th>cons_price_idx</th>\n",
              "      <th>cons_conf_idx</th>\n",
              "      <th>euribor3m</th>\n",
              "      <th>nr_employed</th>\n",
              "      <th>y</th>\n",
              "    </tr>\n",
              "  </thead>\n",
              "  <tbody>\n",
              "    <tr>\n",
              "      <th>0</th>\n",
              "      <td>44</td>\n",
              "      <td>210</td>\n",
              "      <td>1.4</td>\n",
              "      <td>93.444</td>\n",
              "      <td>-36.1</td>\n",
              "      <td>4.963</td>\n",
              "      <td>5228.1</td>\n",
              "      <td>0</td>\n",
              "    </tr>\n",
              "    <tr>\n",
              "      <th>1</th>\n",
              "      <td>53</td>\n",
              "      <td>138</td>\n",
              "      <td>-0.1</td>\n",
              "      <td>93.200</td>\n",
              "      <td>-42.0</td>\n",
              "      <td>4.021</td>\n",
              "      <td>5195.8</td>\n",
              "      <td>0</td>\n",
              "    </tr>\n",
              "    <tr>\n",
              "      <th>2</th>\n",
              "      <td>28</td>\n",
              "      <td>339</td>\n",
              "      <td>-1.7</td>\n",
              "      <td>94.055</td>\n",
              "      <td>-39.8</td>\n",
              "      <td>0.729</td>\n",
              "      <td>4991.6</td>\n",
              "      <td>1</td>\n",
              "    </tr>\n",
              "    <tr>\n",
              "      <th>3</th>\n",
              "      <td>39</td>\n",
              "      <td>185</td>\n",
              "      <td>-1.8</td>\n",
              "      <td>93.075</td>\n",
              "      <td>-47.1</td>\n",
              "      <td>1.405</td>\n",
              "      <td>5099.1</td>\n",
              "      <td>0</td>\n",
              "    </tr>\n",
              "    <tr>\n",
              "      <th>4</th>\n",
              "      <td>55</td>\n",
              "      <td>137</td>\n",
              "      <td>-2.9</td>\n",
              "      <td>92.201</td>\n",
              "      <td>-31.4</td>\n",
              "      <td>0.869</td>\n",
              "      <td>5076.2</td>\n",
              "      <td>1</td>\n",
              "    </tr>\n",
              "  </tbody>\n",
              "</table>\n",
              "</div>\n",
              "      <button class=\"colab-df-convert\" onclick=\"convertToInteractive('df-97c99b20-e3ad-481b-9109-2554ac35fc9b')\"\n",
              "              title=\"Convert this dataframe to an interactive table.\"\n",
              "              style=\"display:none;\">\n",
              "        \n",
              "  <svg xmlns=\"http://www.w3.org/2000/svg\" height=\"24px\"viewBox=\"0 0 24 24\"\n",
              "       width=\"24px\">\n",
              "    <path d=\"M0 0h24v24H0V0z\" fill=\"none\"/>\n",
              "    <path d=\"M18.56 5.44l.94 2.06.94-2.06 2.06-.94-2.06-.94-.94-2.06-.94 2.06-2.06.94zm-11 1L8.5 8.5l.94-2.06 2.06-.94-2.06-.94L8.5 2.5l-.94 2.06-2.06.94zm10 10l.94 2.06.94-2.06 2.06-.94-2.06-.94-.94-2.06-.94 2.06-2.06.94z\"/><path d=\"M17.41 7.96l-1.37-1.37c-.4-.4-.92-.59-1.43-.59-.52 0-1.04.2-1.43.59L10.3 9.45l-7.72 7.72c-.78.78-.78 2.05 0 2.83L4 21.41c.39.39.9.59 1.41.59.51 0 1.02-.2 1.41-.59l7.78-7.78 2.81-2.81c.8-.78.8-2.07 0-2.86zM5.41 20L4 18.59l7.72-7.72 1.47 1.35L5.41 20z\"/>\n",
              "  </svg>\n",
              "      </button>\n",
              "      \n",
              "  <style>\n",
              "    .colab-df-container {\n",
              "      display:flex;\n",
              "      flex-wrap:wrap;\n",
              "      gap: 12px;\n",
              "    }\n",
              "\n",
              "    .colab-df-convert {\n",
              "      background-color: #E8F0FE;\n",
              "      border: none;\n",
              "      border-radius: 50%;\n",
              "      cursor: pointer;\n",
              "      display: none;\n",
              "      fill: #1967D2;\n",
              "      height: 32px;\n",
              "      padding: 0 0 0 0;\n",
              "      width: 32px;\n",
              "    }\n",
              "\n",
              "    .colab-df-convert:hover {\n",
              "      background-color: #E2EBFA;\n",
              "      box-shadow: 0px 1px 2px rgba(60, 64, 67, 0.3), 0px 1px 3px 1px rgba(60, 64, 67, 0.15);\n",
              "      fill: #174EA6;\n",
              "    }\n",
              "\n",
              "    [theme=dark] .colab-df-convert {\n",
              "      background-color: #3B4455;\n",
              "      fill: #D2E3FC;\n",
              "    }\n",
              "\n",
              "    [theme=dark] .colab-df-convert:hover {\n",
              "      background-color: #434B5C;\n",
              "      box-shadow: 0px 1px 3px 1px rgba(0, 0, 0, 0.15);\n",
              "      filter: drop-shadow(0px 1px 2px rgba(0, 0, 0, 0.3));\n",
              "      fill: #FFFFFF;\n",
              "    }\n",
              "  </style>\n",
              "\n",
              "      <script>\n",
              "        const buttonEl =\n",
              "          document.querySelector('#df-97c99b20-e3ad-481b-9109-2554ac35fc9b button.colab-df-convert');\n",
              "        buttonEl.style.display =\n",
              "          google.colab.kernel.accessAllowed ? 'block' : 'none';\n",
              "\n",
              "        async function convertToInteractive(key) {\n",
              "          const element = document.querySelector('#df-97c99b20-e3ad-481b-9109-2554ac35fc9b');\n",
              "          const dataTable =\n",
              "            await google.colab.kernel.invokeFunction('convertToInteractive',\n",
              "                                                     [key], {});\n",
              "          if (!dataTable) return;\n",
              "\n",
              "          const docLinkHtml = 'Like what you see? Visit the ' +\n",
              "            '<a target=\"_blank\" href=https://colab.research.google.com/notebooks/data_table.ipynb>data table notebook</a>'\n",
              "            + ' to learn more about interactive tables.';\n",
              "          element.innerHTML = '';\n",
              "          dataTable['output_type'] = 'display_data';\n",
              "          await google.colab.output.renderOutput(dataTable, element);\n",
              "          const docLink = document.createElement('div');\n",
              "          docLink.innerHTML = docLinkHtml;\n",
              "          element.appendChild(docLink);\n",
              "        }\n",
              "      </script>\n",
              "    </div>\n",
              "  </div>\n",
              "  "
            ]
          },
          "metadata": {},
          "execution_count": 30
        }
      ]
    },
    {
      "cell_type": "code",
      "source": [
        "x=data.iloc[:,:7]\n",
        "y=data.iloc[:,7]"
      ],
      "metadata": {
        "id": "snj_RkuImreg"
      },
      "execution_count": 31,
      "outputs": []
    },
    {
      "cell_type": "code",
      "source": [
        "x_train,x_test,y_train,y_test=train_test_split(x,y,test_size=0.2,random_state=0)"
      ],
      "metadata": {
        "id": "r6zWBqCbmq1c"
      },
      "execution_count": 32,
      "outputs": []
    },
    {
      "cell_type": "code",
      "source": [
        "model=Sequential()"
      ],
      "metadata": {
        "id": "t3O2Sv_HnIzM"
      },
      "execution_count": 33,
      "outputs": []
    },
    {
      "cell_type": "code",
      "source": [
        "model.add(InputLayer(input_shape=(7,)))# input layer\n",
        "model.add(Dense(units=5,activation=\"relu\"))# 5 nerons in hidden layer 1 \n",
        "model.add(Dense(units=3,activation=\"relu\"))# 3 nerons in hidden layer 2\n",
        "model.add(Dense(units=1,activation=\"sigmoid\"))# 5 nerons in output layer"
      ],
      "metadata": {
        "id": "kb1d8Vdnmrg8"
      },
      "execution_count": 34,
      "outputs": []
    },
    {
      "cell_type": "code",
      "source": [
        "model.summary()"
      ],
      "metadata": {
        "colab": {
          "base_uri": "https://localhost:8080/"
        },
        "id": "T9DlVTgSmrjd",
        "outputId": "e5eac0ff-5578-4c75-8f1c-eef78e92e6d2"
      },
      "execution_count": 35,
      "outputs": [
        {
          "output_type": "stream",
          "name": "stdout",
          "text": [
            "Model: \"sequential_2\"\n",
            "_________________________________________________________________\n",
            " Layer (type)                Output Shape              Param #   \n",
            "=================================================================\n",
            " dense_13 (Dense)            (None, 5)                 40        \n",
            "                                                                 \n",
            " dense_14 (Dense)            (None, 3)                 18        \n",
            "                                                                 \n",
            " dense_15 (Dense)            (None, 1)                 4         \n",
            "                                                                 \n",
            "=================================================================\n",
            "Total params: 62\n",
            "Trainable params: 62\n",
            "Non-trainable params: 0\n",
            "_________________________________________________________________\n"
          ]
        }
      ]
    },
    {
      "cell_type": "code",
      "source": [
        "# 40 =5*7+5 (bias)"
      ],
      "metadata": {
        "id": "Uw6qESPumrl0"
      },
      "execution_count": 36,
      "outputs": []
    },
    {
      "cell_type": "code",
      "source": [
        "optim=Adam(lr=0.01)"
      ],
      "metadata": {
        "colab": {
          "base_uri": "https://localhost:8080/"
        },
        "id": "pQLtbvnfmrpT",
        "outputId": "14468b9e-987e-45dc-d35c-147e22ba3d3b"
      },
      "execution_count": 37,
      "outputs": [
        {
          "output_type": "stream",
          "name": "stderr",
          "text": [
            "/usr/local/lib/python3.8/dist-packages/keras/optimizers/optimizer_v2/adam.py:117: UserWarning: The `lr` argument is deprecated, use `learning_rate` instead.\n",
            "  super().__init__(name, **kwargs)\n"
          ]
        }
      ]
    },
    {
      "cell_type": "code",
      "source": [
        "model.compile(loss=\"binary_crossentropy\",optimizer=optim)"
      ],
      "metadata": {
        "id": "uA4LwI-hqx3T"
      },
      "execution_count": 38,
      "outputs": []
    },
    {
      "cell_type": "code",
      "source": [
        "model.fit(x_train,y_train,epochs=50)"
      ],
      "metadata": {
        "colab": {
          "base_uri": "https://localhost:8080/"
        },
        "id": "GRIL033Iqx50",
        "outputId": "76de067c-804c-4761-d2c4-61df2166487b"
      },
      "execution_count": 39,
      "outputs": [
        {
          "output_type": "stream",
          "name": "stdout",
          "text": [
            "Epoch 1/50\n",
            "1030/1030 [==============================] - 4s 2ms/step - loss: 5.2161\n",
            "Epoch 2/50\n",
            "1030/1030 [==============================] - 2s 2ms/step - loss: 0.3135\n",
            "Epoch 3/50\n",
            "1030/1030 [==============================] - 2s 2ms/step - loss: 0.2567\n",
            "Epoch 4/50\n",
            "1030/1030 [==============================] - 2s 2ms/step - loss: 0.2423\n",
            "Epoch 5/50\n",
            "1030/1030 [==============================] - 2s 2ms/step - loss: 0.2347\n",
            "Epoch 6/50\n",
            "1030/1030 [==============================] - 2s 2ms/step - loss: 0.2363\n",
            "Epoch 7/50\n",
            "1030/1030 [==============================] - 2s 2ms/step - loss: 0.2406\n",
            "Epoch 8/50\n",
            "1030/1030 [==============================] - 2s 2ms/step - loss: 0.2398\n",
            "Epoch 9/50\n",
            "1030/1030 [==============================] - 2s 2ms/step - loss: 0.2394\n",
            "Epoch 10/50\n",
            "1030/1030 [==============================] - 2s 2ms/step - loss: 0.2434\n",
            "Epoch 11/50\n",
            "1030/1030 [==============================] - 2s 2ms/step - loss: 0.2416\n",
            "Epoch 12/50\n",
            "1030/1030 [==============================] - 2s 2ms/step - loss: 0.2406\n",
            "Epoch 13/50\n",
            "1030/1030 [==============================] - 2s 2ms/step - loss: 0.2364\n",
            "Epoch 14/50\n",
            "1030/1030 [==============================] - 2s 2ms/step - loss: 0.2283\n",
            "Epoch 15/50\n",
            "1030/1030 [==============================] - 2s 2ms/step - loss: 0.2266\n",
            "Epoch 16/50\n",
            "1030/1030 [==============================] - 2s 2ms/step - loss: 0.2265\n",
            "Epoch 17/50\n",
            "1030/1030 [==============================] - 2s 2ms/step - loss: 0.2280\n",
            "Epoch 18/50\n",
            "1030/1030 [==============================] - 2s 2ms/step - loss: 0.2274\n",
            "Epoch 19/50\n",
            "1030/1030 [==============================] - 2s 2ms/step - loss: 0.2261\n",
            "Epoch 20/50\n",
            "1030/1030 [==============================] - 2s 2ms/step - loss: 0.2278\n",
            "Epoch 21/50\n",
            "1030/1030 [==============================] - 3s 2ms/step - loss: 0.2257\n",
            "Epoch 22/50\n",
            "1030/1030 [==============================] - 2s 2ms/step - loss: 0.2254\n",
            "Epoch 23/50\n",
            "1030/1030 [==============================] - 2s 2ms/step - loss: 0.2286\n",
            "Epoch 24/50\n",
            "1030/1030 [==============================] - 2s 2ms/step - loss: 0.2280\n",
            "Epoch 25/50\n",
            "1030/1030 [==============================] - 2s 2ms/step - loss: 0.2263\n",
            "Epoch 26/50\n",
            "1030/1030 [==============================] - 2s 2ms/step - loss: 0.2288\n",
            "Epoch 27/50\n",
            "1030/1030 [==============================] - 2s 2ms/step - loss: 0.2245\n",
            "Epoch 28/50\n",
            "1030/1030 [==============================] - 2s 2ms/step - loss: 0.2246\n",
            "Epoch 29/50\n",
            "1030/1030 [==============================] - 2s 2ms/step - loss: 0.2253\n",
            "Epoch 30/50\n",
            "1030/1030 [==============================] - 2s 2ms/step - loss: 0.2267\n",
            "Epoch 31/50\n",
            "1030/1030 [==============================] - 2s 2ms/step - loss: 0.2228\n",
            "Epoch 32/50\n",
            "1030/1030 [==============================] - 2s 2ms/step - loss: 0.2244\n",
            "Epoch 33/50\n",
            "1030/1030 [==============================] - 2s 2ms/step - loss: 0.2270\n",
            "Epoch 34/50\n",
            "1030/1030 [==============================] - 2s 2ms/step - loss: 0.2237\n",
            "Epoch 35/50\n",
            "1030/1030 [==============================] - 2s 2ms/step - loss: 0.2257\n",
            "Epoch 36/50\n",
            "1030/1030 [==============================] - 2s 2ms/step - loss: 0.2232\n",
            "Epoch 37/50\n",
            "1030/1030 [==============================] - 2s 2ms/step - loss: 0.2234\n",
            "Epoch 38/50\n",
            "1030/1030 [==============================] - 2s 2ms/step - loss: 0.2243\n",
            "Epoch 39/50\n",
            "1030/1030 [==============================] - 2s 2ms/step - loss: 0.2258\n",
            "Epoch 40/50\n",
            "1030/1030 [==============================] - 2s 2ms/step - loss: 0.2236\n",
            "Epoch 41/50\n",
            "1030/1030 [==============================] - 2s 2ms/step - loss: 0.2235\n",
            "Epoch 42/50\n",
            "1030/1030 [==============================] - 2s 2ms/step - loss: 0.2258\n",
            "Epoch 43/50\n",
            "1030/1030 [==============================] - 2s 2ms/step - loss: 0.2253\n",
            "Epoch 44/50\n",
            "1030/1030 [==============================] - 2s 2ms/step - loss: 0.2251\n",
            "Epoch 45/50\n",
            "1030/1030 [==============================] - 2s 2ms/step - loss: 0.2230\n",
            "Epoch 46/50\n",
            "1030/1030 [==============================] - 2s 2ms/step - loss: 0.2226\n",
            "Epoch 47/50\n",
            "1030/1030 [==============================] - 2s 2ms/step - loss: 0.2228\n",
            "Epoch 48/50\n",
            "1030/1030 [==============================] - 2s 2ms/step - loss: 0.2275\n",
            "Epoch 49/50\n",
            "1030/1030 [==============================] - 2s 2ms/step - loss: 0.2251\n",
            "Epoch 50/50\n",
            "1030/1030 [==============================] - 2s 2ms/step - loss: 0.2242\n"
          ]
        },
        {
          "output_type": "execute_result",
          "data": {
            "text/plain": [
              "<keras.callbacks.History at 0x7f79dc203f10>"
            ]
          },
          "metadata": {},
          "execution_count": 39
        }
      ]
    },
    {
      "cell_type": "code",
      "source": [
        "# for muti class classification \n",
        "y_pred = np.argmax(model.predict(x_test), axis=-1)\n",
        "#The np.argmax() function returns the indices of the maximum values along a given axis. In this case, \n",
        "#the axis=-1 argument specifies that the function should operate along the last axis of the input array."
      ],
      "metadata": {
        "colab": {
          "base_uri": "https://localhost:8080/"
        },
        "id": "ANq1xi5aqx7y",
        "outputId": "f55f061e-26e3-44ff-d336-d6cc44818b8d"
      },
      "execution_count": 47,
      "outputs": [
        {
          "output_type": "stream",
          "name": "stdout",
          "text": [
            "258/258 [==============================] - 0s 1ms/step\n"
          ]
        }
      ]
    },
    {
      "cell_type": "code",
      "source": [
        "# for binary classification \n",
        "y_pred = (model.predict(x_test) > 0.5).astype(\"int32\")"
      ],
      "metadata": {
        "colab": {
          "base_uri": "https://localhost:8080/"
        },
        "id": "A3RXjnj6v4iJ",
        "outputId": "7c756b36-cf9d-4a88-8738-7933945232b8"
      },
      "execution_count": 52,
      "outputs": [
        {
          "output_type": "stream",
          "name": "stdout",
          "text": [
            "258/258 [==============================] - 0s 1ms/step\n"
          ]
        }
      ]
    },
    {
      "cell_type": "code",
      "source": [
        "accuracy_score(y_test,y_pred)"
      ],
      "metadata": {
        "colab": {
          "base_uri": "https://localhost:8080/"
        },
        "id": "MEKbZCSGqx-O",
        "outputId": "61aeaf16-2e43-4234-f311-8552d77a79ed"
      },
      "execution_count": 53,
      "outputs": [
        {
          "output_type": "execute_result",
          "data": {
            "text/plain": [
              "0.8891721291575625"
            ]
          },
          "metadata": {},
          "execution_count": 53
        }
      ]
    },
    {
      "cell_type": "code",
      "source": [
        "x_test"
      ],
      "metadata": {
        "colab": {
          "base_uri": "https://localhost:8080/",
          "height": 423
        },
        "id": "HlnracLTqyBw",
        "outputId": "9f6dead8-ba43-43bc-fcd0-6a43cdb558f7"
      },
      "execution_count": 54,
      "outputs": [
        {
          "output_type": "execute_result",
          "data": {
            "text/plain": [
              "       age  duration  emp_var_rate  cons_price_idx  cons_conf_idx  euribor3m  \\\n",
              "15500   51       104          -1.8          93.075          -47.1      1.405   \n",
              "29034   31       551          -1.8          93.075          -47.1      1.466   \n",
              "11199   33       116           1.4          93.918          -42.7      4.962   \n",
              "22247   29       100           1.4          94.465          -41.8      4.961   \n",
              "27180   57       216          -0.1          93.200          -42.0      4.021   \n",
              "...    ...       ...           ...             ...            ...        ...   \n",
              "34422   47        63          -2.9          92.963          -40.8      1.224   \n",
              "14868   38       106           1.1          93.994          -36.4      4.857   \n",
              "40057   57         5          -0.1          93.200          -42.0      4.663   \n",
              "24321   31       374           1.1          93.994          -36.4      4.857   \n",
              "37567   40        21           1.4          93.918          -42.7      4.968   \n",
              "\n",
              "       nr_employed  \n",
              "15500       5099.1  \n",
              "29034       5099.1  \n",
              "11199       5228.1  \n",
              "22247       5228.1  \n",
              "27180       5195.8  \n",
              "...            ...  \n",
              "34422       5076.2  \n",
              "14868       5191.0  \n",
              "40057       5195.8  \n",
              "24321       5191.0  \n",
              "37567       5228.1  \n",
              "\n",
              "[8238 rows x 7 columns]"
            ],
            "text/html": [
              "\n",
              "  <div id=\"df-f6757bbb-5f5e-4f57-96ea-420af5c5ba52\">\n",
              "    <div class=\"colab-df-container\">\n",
              "      <div>\n",
              "<style scoped>\n",
              "    .dataframe tbody tr th:only-of-type {\n",
              "        vertical-align: middle;\n",
              "    }\n",
              "\n",
              "    .dataframe tbody tr th {\n",
              "        vertical-align: top;\n",
              "    }\n",
              "\n",
              "    .dataframe thead th {\n",
              "        text-align: right;\n",
              "    }\n",
              "</style>\n",
              "<table border=\"1\" class=\"dataframe\">\n",
              "  <thead>\n",
              "    <tr style=\"text-align: right;\">\n",
              "      <th></th>\n",
              "      <th>age</th>\n",
              "      <th>duration</th>\n",
              "      <th>emp_var_rate</th>\n",
              "      <th>cons_price_idx</th>\n",
              "      <th>cons_conf_idx</th>\n",
              "      <th>euribor3m</th>\n",
              "      <th>nr_employed</th>\n",
              "    </tr>\n",
              "  </thead>\n",
              "  <tbody>\n",
              "    <tr>\n",
              "      <th>15500</th>\n",
              "      <td>51</td>\n",
              "      <td>104</td>\n",
              "      <td>-1.8</td>\n",
              "      <td>93.075</td>\n",
              "      <td>-47.1</td>\n",
              "      <td>1.405</td>\n",
              "      <td>5099.1</td>\n",
              "    </tr>\n",
              "    <tr>\n",
              "      <th>29034</th>\n",
              "      <td>31</td>\n",
              "      <td>551</td>\n",
              "      <td>-1.8</td>\n",
              "      <td>93.075</td>\n",
              "      <td>-47.1</td>\n",
              "      <td>1.466</td>\n",
              "      <td>5099.1</td>\n",
              "    </tr>\n",
              "    <tr>\n",
              "      <th>11199</th>\n",
              "      <td>33</td>\n",
              "      <td>116</td>\n",
              "      <td>1.4</td>\n",
              "      <td>93.918</td>\n",
              "      <td>-42.7</td>\n",
              "      <td>4.962</td>\n",
              "      <td>5228.1</td>\n",
              "    </tr>\n",
              "    <tr>\n",
              "      <th>22247</th>\n",
              "      <td>29</td>\n",
              "      <td>100</td>\n",
              "      <td>1.4</td>\n",
              "      <td>94.465</td>\n",
              "      <td>-41.8</td>\n",
              "      <td>4.961</td>\n",
              "      <td>5228.1</td>\n",
              "    </tr>\n",
              "    <tr>\n",
              "      <th>27180</th>\n",
              "      <td>57</td>\n",
              "      <td>216</td>\n",
              "      <td>-0.1</td>\n",
              "      <td>93.200</td>\n",
              "      <td>-42.0</td>\n",
              "      <td>4.021</td>\n",
              "      <td>5195.8</td>\n",
              "    </tr>\n",
              "    <tr>\n",
              "      <th>...</th>\n",
              "      <td>...</td>\n",
              "      <td>...</td>\n",
              "      <td>...</td>\n",
              "      <td>...</td>\n",
              "      <td>...</td>\n",
              "      <td>...</td>\n",
              "      <td>...</td>\n",
              "    </tr>\n",
              "    <tr>\n",
              "      <th>34422</th>\n",
              "      <td>47</td>\n",
              "      <td>63</td>\n",
              "      <td>-2.9</td>\n",
              "      <td>92.963</td>\n",
              "      <td>-40.8</td>\n",
              "      <td>1.224</td>\n",
              "      <td>5076.2</td>\n",
              "    </tr>\n",
              "    <tr>\n",
              "      <th>14868</th>\n",
              "      <td>38</td>\n",
              "      <td>106</td>\n",
              "      <td>1.1</td>\n",
              "      <td>93.994</td>\n",
              "      <td>-36.4</td>\n",
              "      <td>4.857</td>\n",
              "      <td>5191.0</td>\n",
              "    </tr>\n",
              "    <tr>\n",
              "      <th>40057</th>\n",
              "      <td>57</td>\n",
              "      <td>5</td>\n",
              "      <td>-0.1</td>\n",
              "      <td>93.200</td>\n",
              "      <td>-42.0</td>\n",
              "      <td>4.663</td>\n",
              "      <td>5195.8</td>\n",
              "    </tr>\n",
              "    <tr>\n",
              "      <th>24321</th>\n",
              "      <td>31</td>\n",
              "      <td>374</td>\n",
              "      <td>1.1</td>\n",
              "      <td>93.994</td>\n",
              "      <td>-36.4</td>\n",
              "      <td>4.857</td>\n",
              "      <td>5191.0</td>\n",
              "    </tr>\n",
              "    <tr>\n",
              "      <th>37567</th>\n",
              "      <td>40</td>\n",
              "      <td>21</td>\n",
              "      <td>1.4</td>\n",
              "      <td>93.918</td>\n",
              "      <td>-42.7</td>\n",
              "      <td>4.968</td>\n",
              "      <td>5228.1</td>\n",
              "    </tr>\n",
              "  </tbody>\n",
              "</table>\n",
              "<p>8238 rows × 7 columns</p>\n",
              "</div>\n",
              "      <button class=\"colab-df-convert\" onclick=\"convertToInteractive('df-f6757bbb-5f5e-4f57-96ea-420af5c5ba52')\"\n",
              "              title=\"Convert this dataframe to an interactive table.\"\n",
              "              style=\"display:none;\">\n",
              "        \n",
              "  <svg xmlns=\"http://www.w3.org/2000/svg\" height=\"24px\"viewBox=\"0 0 24 24\"\n",
              "       width=\"24px\">\n",
              "    <path d=\"M0 0h24v24H0V0z\" fill=\"none\"/>\n",
              "    <path d=\"M18.56 5.44l.94 2.06.94-2.06 2.06-.94-2.06-.94-.94-2.06-.94 2.06-2.06.94zm-11 1L8.5 8.5l.94-2.06 2.06-.94-2.06-.94L8.5 2.5l-.94 2.06-2.06.94zm10 10l.94 2.06.94-2.06 2.06-.94-2.06-.94-.94-2.06-.94 2.06-2.06.94z\"/><path d=\"M17.41 7.96l-1.37-1.37c-.4-.4-.92-.59-1.43-.59-.52 0-1.04.2-1.43.59L10.3 9.45l-7.72 7.72c-.78.78-.78 2.05 0 2.83L4 21.41c.39.39.9.59 1.41.59.51 0 1.02-.2 1.41-.59l7.78-7.78 2.81-2.81c.8-.78.8-2.07 0-2.86zM5.41 20L4 18.59l7.72-7.72 1.47 1.35L5.41 20z\"/>\n",
              "  </svg>\n",
              "      </button>\n",
              "      \n",
              "  <style>\n",
              "    .colab-df-container {\n",
              "      display:flex;\n",
              "      flex-wrap:wrap;\n",
              "      gap: 12px;\n",
              "    }\n",
              "\n",
              "    .colab-df-convert {\n",
              "      background-color: #E8F0FE;\n",
              "      border: none;\n",
              "      border-radius: 50%;\n",
              "      cursor: pointer;\n",
              "      display: none;\n",
              "      fill: #1967D2;\n",
              "      height: 32px;\n",
              "      padding: 0 0 0 0;\n",
              "      width: 32px;\n",
              "    }\n",
              "\n",
              "    .colab-df-convert:hover {\n",
              "      background-color: #E2EBFA;\n",
              "      box-shadow: 0px 1px 2px rgba(60, 64, 67, 0.3), 0px 1px 3px 1px rgba(60, 64, 67, 0.15);\n",
              "      fill: #174EA6;\n",
              "    }\n",
              "\n",
              "    [theme=dark] .colab-df-convert {\n",
              "      background-color: #3B4455;\n",
              "      fill: #D2E3FC;\n",
              "    }\n",
              "\n",
              "    [theme=dark] .colab-df-convert:hover {\n",
              "      background-color: #434B5C;\n",
              "      box-shadow: 0px 1px 3px 1px rgba(0, 0, 0, 0.15);\n",
              "      filter: drop-shadow(0px 1px 2px rgba(0, 0, 0, 0.3));\n",
              "      fill: #FFFFFF;\n",
              "    }\n",
              "  </style>\n",
              "\n",
              "      <script>\n",
              "        const buttonEl =\n",
              "          document.querySelector('#df-f6757bbb-5f5e-4f57-96ea-420af5c5ba52 button.colab-df-convert');\n",
              "        buttonEl.style.display =\n",
              "          google.colab.kernel.accessAllowed ? 'block' : 'none';\n",
              "\n",
              "        async function convertToInteractive(key) {\n",
              "          const element = document.querySelector('#df-f6757bbb-5f5e-4f57-96ea-420af5c5ba52');\n",
              "          const dataTable =\n",
              "            await google.colab.kernel.invokeFunction('convertToInteractive',\n",
              "                                                     [key], {});\n",
              "          if (!dataTable) return;\n",
              "\n",
              "          const docLinkHtml = 'Like what you see? Visit the ' +\n",
              "            '<a target=\"_blank\" href=https://colab.research.google.com/notebooks/data_table.ipynb>data table notebook</a>'\n",
              "            + ' to learn more about interactive tables.';\n",
              "          element.innerHTML = '';\n",
              "          dataTable['output_type'] = 'display_data';\n",
              "          await google.colab.output.renderOutput(dataTable, element);\n",
              "          const docLink = document.createElement('div');\n",
              "          docLink.innerHTML = docLinkHtml;\n",
              "          element.appendChild(docLink);\n",
              "        }\n",
              "      </script>\n",
              "    </div>\n",
              "  </div>\n",
              "  "
            ]
          },
          "metadata": {},
          "execution_count": 54
        }
      ]
    },
    {
      "cell_type": "code",
      "source": [],
      "metadata": {
        "id": "bhhazq17vSjX"
      },
      "execution_count": null,
      "outputs": []
    },
    {
      "cell_type": "code",
      "source": [],
      "metadata": {
        "id": "dAN4bglXviTR"
      },
      "execution_count": null,
      "outputs": []
    }
  ]
}