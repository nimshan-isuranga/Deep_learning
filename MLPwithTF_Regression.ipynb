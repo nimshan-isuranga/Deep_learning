{
  "nbformat": 4,
  "nbformat_minor": 0,
  "metadata": {
    "colab": {
      "provenance": []
    },
    "kernelspec": {
      "name": "python3",
      "display_name": "Python 3"
    },
    "language_info": {
      "name": "python"
    }
  },
  "cells": [
    {
      "cell_type": "code",
      "execution_count": 1,
      "metadata": {
        "id": "FQ01wFBox6FK"
      },
      "outputs": [],
      "source": [
        "import tensorflow \n",
        "from keras.models import Sequential\n",
        "from keras.layers import InputLayer,Dense\n",
        "from keras.optimizers import Adam\n",
        "import pandas as pd\n",
        "from sklearn.model_selection import train_test_split\n",
        "from sklearn.metrics import mean_squared_error\n",
        "import numpy as np"
      ]
    },
    {
      "cell_type": "code",
      "source": [
        "data=pd.read_csv(\"Housing Price.csv\")\n",
        "data.head()"
      ],
      "metadata": {
        "colab": {
          "base_uri": "https://localhost:8080/",
          "height": 285
        },
        "id": "_36YylhhyGxQ",
        "outputId": "4099a70f-f452-4871-dd61-99a96ab09e5a"
      },
      "execution_count": 3,
      "outputs": [
        {
          "output_type": "execute_result",
          "data": {
            "text/plain": [
              "   Avg. Area Income  Avg. Area House Age  Avg. Area Number of Rooms  \\\n",
              "0       79545.45857             5.682861                   7.009188   \n",
              "1       79248.64245             6.002900                   6.730821   \n",
              "2       61287.06718             5.865890                   8.512727   \n",
              "3       63345.24005             7.188236                   5.586729   \n",
              "4       59982.19723             5.040555                   7.839388   \n",
              "\n",
              "   Avg. Area Number of Bedrooms  Area Population         Price  \n",
              "0                          4.09      23086.80050  1.059034e+06  \n",
              "1                          3.09      40173.07217  1.505891e+06  \n",
              "2                          5.13      36882.15940  1.058988e+06  \n",
              "3                          3.26      34310.24283  1.260617e+06  \n",
              "4                          4.23      26354.10947  6.309435e+05  "
            ],
            "text/html": [
              "\n",
              "  <div id=\"df-066db6c5-b7ff-4509-b6d0-e292a0fa57c6\">\n",
              "    <div class=\"colab-df-container\">\n",
              "      <div>\n",
              "<style scoped>\n",
              "    .dataframe tbody tr th:only-of-type {\n",
              "        vertical-align: middle;\n",
              "    }\n",
              "\n",
              "    .dataframe tbody tr th {\n",
              "        vertical-align: top;\n",
              "    }\n",
              "\n",
              "    .dataframe thead th {\n",
              "        text-align: right;\n",
              "    }\n",
              "</style>\n",
              "<table border=\"1\" class=\"dataframe\">\n",
              "  <thead>\n",
              "    <tr style=\"text-align: right;\">\n",
              "      <th></th>\n",
              "      <th>Avg. Area Income</th>\n",
              "      <th>Avg. Area House Age</th>\n",
              "      <th>Avg. Area Number of Rooms</th>\n",
              "      <th>Avg. Area Number of Bedrooms</th>\n",
              "      <th>Area Population</th>\n",
              "      <th>Price</th>\n",
              "    </tr>\n",
              "  </thead>\n",
              "  <tbody>\n",
              "    <tr>\n",
              "      <th>0</th>\n",
              "      <td>79545.45857</td>\n",
              "      <td>5.682861</td>\n",
              "      <td>7.009188</td>\n",
              "      <td>4.09</td>\n",
              "      <td>23086.80050</td>\n",
              "      <td>1.059034e+06</td>\n",
              "    </tr>\n",
              "    <tr>\n",
              "      <th>1</th>\n",
              "      <td>79248.64245</td>\n",
              "      <td>6.002900</td>\n",
              "      <td>6.730821</td>\n",
              "      <td>3.09</td>\n",
              "      <td>40173.07217</td>\n",
              "      <td>1.505891e+06</td>\n",
              "    </tr>\n",
              "    <tr>\n",
              "      <th>2</th>\n",
              "      <td>61287.06718</td>\n",
              "      <td>5.865890</td>\n",
              "      <td>8.512727</td>\n",
              "      <td>5.13</td>\n",
              "      <td>36882.15940</td>\n",
              "      <td>1.058988e+06</td>\n",
              "    </tr>\n",
              "    <tr>\n",
              "      <th>3</th>\n",
              "      <td>63345.24005</td>\n",
              "      <td>7.188236</td>\n",
              "      <td>5.586729</td>\n",
              "      <td>3.26</td>\n",
              "      <td>34310.24283</td>\n",
              "      <td>1.260617e+06</td>\n",
              "    </tr>\n",
              "    <tr>\n",
              "      <th>4</th>\n",
              "      <td>59982.19723</td>\n",
              "      <td>5.040555</td>\n",
              "      <td>7.839388</td>\n",
              "      <td>4.23</td>\n",
              "      <td>26354.10947</td>\n",
              "      <td>6.309435e+05</td>\n",
              "    </tr>\n",
              "  </tbody>\n",
              "</table>\n",
              "</div>\n",
              "      <button class=\"colab-df-convert\" onclick=\"convertToInteractive('df-066db6c5-b7ff-4509-b6d0-e292a0fa57c6')\"\n",
              "              title=\"Convert this dataframe to an interactive table.\"\n",
              "              style=\"display:none;\">\n",
              "        \n",
              "  <svg xmlns=\"http://www.w3.org/2000/svg\" height=\"24px\"viewBox=\"0 0 24 24\"\n",
              "       width=\"24px\">\n",
              "    <path d=\"M0 0h24v24H0V0z\" fill=\"none\"/>\n",
              "    <path d=\"M18.56 5.44l.94 2.06.94-2.06 2.06-.94-2.06-.94-.94-2.06-.94 2.06-2.06.94zm-11 1L8.5 8.5l.94-2.06 2.06-.94-2.06-.94L8.5 2.5l-.94 2.06-2.06.94zm10 10l.94 2.06.94-2.06 2.06-.94-2.06-.94-.94-2.06-.94 2.06-2.06.94z\"/><path d=\"M17.41 7.96l-1.37-1.37c-.4-.4-.92-.59-1.43-.59-.52 0-1.04.2-1.43.59L10.3 9.45l-7.72 7.72c-.78.78-.78 2.05 0 2.83L4 21.41c.39.39.9.59 1.41.59.51 0 1.02-.2 1.41-.59l7.78-7.78 2.81-2.81c.8-.78.8-2.07 0-2.86zM5.41 20L4 18.59l7.72-7.72 1.47 1.35L5.41 20z\"/>\n",
              "  </svg>\n",
              "      </button>\n",
              "      \n",
              "  <style>\n",
              "    .colab-df-container {\n",
              "      display:flex;\n",
              "      flex-wrap:wrap;\n",
              "      gap: 12px;\n",
              "    }\n",
              "\n",
              "    .colab-df-convert {\n",
              "      background-color: #E8F0FE;\n",
              "      border: none;\n",
              "      border-radius: 50%;\n",
              "      cursor: pointer;\n",
              "      display: none;\n",
              "      fill: #1967D2;\n",
              "      height: 32px;\n",
              "      padding: 0 0 0 0;\n",
              "      width: 32px;\n",
              "    }\n",
              "\n",
              "    .colab-df-convert:hover {\n",
              "      background-color: #E2EBFA;\n",
              "      box-shadow: 0px 1px 2px rgba(60, 64, 67, 0.3), 0px 1px 3px 1px rgba(60, 64, 67, 0.15);\n",
              "      fill: #174EA6;\n",
              "    }\n",
              "\n",
              "    [theme=dark] .colab-df-convert {\n",
              "      background-color: #3B4455;\n",
              "      fill: #D2E3FC;\n",
              "    }\n",
              "\n",
              "    [theme=dark] .colab-df-convert:hover {\n",
              "      background-color: #434B5C;\n",
              "      box-shadow: 0px 1px 3px 1px rgba(0, 0, 0, 0.15);\n",
              "      filter: drop-shadow(0px 1px 2px rgba(0, 0, 0, 0.3));\n",
              "      fill: #FFFFFF;\n",
              "    }\n",
              "  </style>\n",
              "\n",
              "      <script>\n",
              "        const buttonEl =\n",
              "          document.querySelector('#df-066db6c5-b7ff-4509-b6d0-e292a0fa57c6 button.colab-df-convert');\n",
              "        buttonEl.style.display =\n",
              "          google.colab.kernel.accessAllowed ? 'block' : 'none';\n",
              "\n",
              "        async function convertToInteractive(key) {\n",
              "          const element = document.querySelector('#df-066db6c5-b7ff-4509-b6d0-e292a0fa57c6');\n",
              "          const dataTable =\n",
              "            await google.colab.kernel.invokeFunction('convertToInteractive',\n",
              "                                                     [key], {});\n",
              "          if (!dataTable) return;\n",
              "\n",
              "          const docLinkHtml = 'Like what you see? Visit the ' +\n",
              "            '<a target=\"_blank\" href=https://colab.research.google.com/notebooks/data_table.ipynb>data table notebook</a>'\n",
              "            + ' to learn more about interactive tables.';\n",
              "          element.innerHTML = '';\n",
              "          dataTable['output_type'] = 'display_data';\n",
              "          await google.colab.output.renderOutput(dataTable, element);\n",
              "          const docLink = document.createElement('div');\n",
              "          docLink.innerHTML = docLinkHtml;\n",
              "          element.appendChild(docLink);\n",
              "        }\n",
              "      </script>\n",
              "    </div>\n",
              "  </div>\n",
              "  "
            ]
          },
          "metadata": {},
          "execution_count": 3
        }
      ]
    },
    {
      "cell_type": "code",
      "source": [
        "x=data.iloc[:,:5].values\n",
        "y=data.iloc[:,5].values"
      ],
      "metadata": {
        "id": "QCvytPYcyvC3"
      },
      "execution_count": 4,
      "outputs": []
    },
    {
      "cell_type": "code",
      "source": [
        "x_train,x_test,y_train,y_test=train_test_split(x,y,test_size=0.2,random_state=0)"
      ],
      "metadata": {
        "id": "d_h_YZXozA24"
      },
      "execution_count": 5,
      "outputs": []
    },
    {
      "cell_type": "code",
      "source": [
        "model=Sequential()"
      ],
      "metadata": {
        "id": "vsXQl8GFzE8E"
      },
      "execution_count": 6,
      "outputs": []
    },
    {
      "cell_type": "code",
      "source": [
        "model.add(InputLayer(input_shape=(5,)))\n",
        "model.add(Dense(units=3,activation=\"relu\"))\n",
        "model.add(Dense(units=2,activation=\"relu\"))\n",
        "model.add(Dense(units=1,activation=\"linear\"))# regression"
      ],
      "metadata": {
        "id": "HFo_K5xCzJdd"
      },
      "execution_count": 7,
      "outputs": []
    },
    {
      "cell_type": "code",
      "source": [
        "model.summary()"
      ],
      "metadata": {
        "colab": {
          "base_uri": "https://localhost:8080/"
        },
        "id": "fVNCo0qEzlww",
        "outputId": "5eb736d7-6bca-47e4-cbe1-4b3f7e5cef64"
      },
      "execution_count": 8,
      "outputs": [
        {
          "output_type": "stream",
          "name": "stdout",
          "text": [
            "Model: \"sequential\"\n",
            "_________________________________________________________________\n",
            " Layer (type)                Output Shape              Param #   \n",
            "=================================================================\n",
            " dense (Dense)               (None, 3)                 18        \n",
            "                                                                 \n",
            " dense_1 (Dense)             (None, 2)                 8         \n",
            "                                                                 \n",
            " dense_2 (Dense)             (None, 1)                 3         \n",
            "                                                                 \n",
            "=================================================================\n",
            "Total params: 29\n",
            "Trainable params: 29\n",
            "Non-trainable params: 0\n",
            "_________________________________________________________________\n"
          ]
        }
      ]
    },
    {
      "cell_type": "code",
      "source": [
        "optim=Adam(lr=0.01)"
      ],
      "metadata": {
        "colab": {
          "base_uri": "https://localhost:8080/"
        },
        "id": "lmmCXTPtzoFX",
        "outputId": "c7b63463-ee09-4e07-8516-f41d69cfbc50"
      },
      "execution_count": 9,
      "outputs": [
        {
          "output_type": "stream",
          "name": "stderr",
          "text": [
            "/usr/local/lib/python3.8/dist-packages/keras/optimizers/optimizer_v2/adam.py:117: UserWarning: The `lr` argument is deprecated, use `learning_rate` instead.\n",
            "  super().__init__(name, **kwargs)\n"
          ]
        }
      ]
    },
    {
      "cell_type": "code",
      "source": [
        "model.compile(loss=\"mean_squared_error\",optimizer=optim)\n"
      ],
      "metadata": {
        "id": "EC2eAkhsz4w-"
      },
      "execution_count": 10,
      "outputs": []
    },
    {
      "cell_type": "code",
      "source": [
        "model_det=model.fit(x_train,y_train,epochs=50)"
      ],
      "metadata": {
        "colab": {
          "base_uri": "https://localhost:8080/"
        },
        "id": "TGGs0v4B0B3k",
        "outputId": "78f84062-2698-40f3-db5c-53d46b168f44"
      },
      "execution_count": 11,
      "outputs": [
        {
          "output_type": "stream",
          "name": "stdout",
          "text": [
            "Epoch 1/50\n",
            "125/125 [==============================] - 1s 2ms/step - loss: 737679507456.0000\n",
            "Epoch 2/50\n",
            "125/125 [==============================] - 0s 2ms/step - loss: 63574216704.0000\n",
            "Epoch 3/50\n",
            "125/125 [==============================] - 0s 2ms/step - loss: 63212265472.0000\n",
            "Epoch 4/50\n",
            "125/125 [==============================] - 0s 2ms/step - loss: 63053459456.0000\n",
            "Epoch 5/50\n",
            "125/125 [==============================] - 0s 2ms/step - loss: 62927527936.0000\n",
            "Epoch 6/50\n",
            "125/125 [==============================] - 0s 2ms/step - loss: 63115796480.0000\n",
            "Epoch 7/50\n",
            "125/125 [==============================] - 0s 2ms/step - loss: 62886875136.0000\n",
            "Epoch 8/50\n",
            "125/125 [==============================] - 0s 2ms/step - loss: 62921797632.0000\n",
            "Epoch 9/50\n",
            "125/125 [==============================] - 0s 2ms/step - loss: 62708523008.0000\n",
            "Epoch 10/50\n",
            "125/125 [==============================] - 0s 2ms/step - loss: 62823051264.0000\n",
            "Epoch 11/50\n",
            "125/125 [==============================] - 0s 2ms/step - loss: 62625558528.0000\n",
            "Epoch 12/50\n",
            "125/125 [==============================] - 0s 2ms/step - loss: 62775095296.0000\n",
            "Epoch 13/50\n",
            "125/125 [==============================] - 0s 2ms/step - loss: 62894923776.0000\n",
            "Epoch 14/50\n",
            "125/125 [==============================] - 0s 2ms/step - loss: 62625038336.0000\n",
            "Epoch 15/50\n",
            "125/125 [==============================] - 0s 2ms/step - loss: 62678548480.0000\n",
            "Epoch 16/50\n",
            "125/125 [==============================] - 0s 2ms/step - loss: 62675001344.0000\n",
            "Epoch 17/50\n",
            "125/125 [==============================] - 0s 2ms/step - loss: 63089958912.0000\n",
            "Epoch 18/50\n",
            "125/125 [==============================] - 0s 2ms/step - loss: 62699487232.0000\n",
            "Epoch 19/50\n",
            "125/125 [==============================] - 0s 2ms/step - loss: 62804611072.0000\n",
            "Epoch 20/50\n",
            "125/125 [==============================] - 0s 2ms/step - loss: 62811643904.0000\n",
            "Epoch 21/50\n",
            "125/125 [==============================] - 0s 2ms/step - loss: 62722621440.0000\n",
            "Epoch 22/50\n",
            "125/125 [==============================] - 0s 2ms/step - loss: 62588026880.0000\n",
            "Epoch 23/50\n",
            "125/125 [==============================] - 0s 2ms/step - loss: 62531973120.0000\n",
            "Epoch 24/50\n",
            "125/125 [==============================] - 0s 3ms/step - loss: 62507597824.0000\n",
            "Epoch 25/50\n",
            "125/125 [==============================] - 0s 3ms/step - loss: 63144026112.0000\n",
            "Epoch 26/50\n",
            "125/125 [==============================] - 0s 2ms/step - loss: 62559002624.0000\n",
            "Epoch 27/50\n",
            "125/125 [==============================] - 0s 3ms/step - loss: 62906748928.0000\n",
            "Epoch 28/50\n",
            "125/125 [==============================] - 0s 3ms/step - loss: 62802210816.0000\n",
            "Epoch 29/50\n",
            "125/125 [==============================] - 0s 2ms/step - loss: 62855933952.0000\n",
            "Epoch 30/50\n",
            "125/125 [==============================] - 0s 3ms/step - loss: 62702125056.0000\n",
            "Epoch 31/50\n",
            "125/125 [==============================] - 0s 2ms/step - loss: 62823264256.0000\n",
            "Epoch 32/50\n",
            "125/125 [==============================] - 0s 2ms/step - loss: 62681210880.0000\n",
            "Epoch 33/50\n",
            "125/125 [==============================] - 0s 2ms/step - loss: 62700904448.0000\n",
            "Epoch 34/50\n",
            "125/125 [==============================] - 0s 2ms/step - loss: 62536736768.0000\n",
            "Epoch 35/50\n",
            "125/125 [==============================] - 0s 2ms/step - loss: 62672773120.0000\n",
            "Epoch 36/50\n",
            "125/125 [==============================] - 0s 3ms/step - loss: 62637920256.0000\n",
            "Epoch 37/50\n",
            "125/125 [==============================] - 0s 2ms/step - loss: 62812250112.0000\n",
            "Epoch 38/50\n",
            "125/125 [==============================] - 0s 2ms/step - loss: 62663827456.0000\n",
            "Epoch 39/50\n",
            "125/125 [==============================] - 0s 2ms/step - loss: 62937038848.0000\n",
            "Epoch 40/50\n",
            "125/125 [==============================] - 0s 3ms/step - loss: 62813974528.0000\n",
            "Epoch 41/50\n",
            "125/125 [==============================] - 0s 2ms/step - loss: 62619557888.0000\n",
            "Epoch 42/50\n",
            "125/125 [==============================] - 0s 3ms/step - loss: 62697644032.0000\n",
            "Epoch 43/50\n",
            "125/125 [==============================] - 0s 2ms/step - loss: 62572044288.0000\n",
            "Epoch 44/50\n",
            "125/125 [==============================] - 0s 2ms/step - loss: 62618087424.0000\n",
            "Epoch 45/50\n",
            "125/125 [==============================] - 1s 5ms/step - loss: 62605283328.0000\n",
            "Epoch 46/50\n",
            "125/125 [==============================] - 0s 3ms/step - loss: 62631997440.0000\n",
            "Epoch 47/50\n",
            "125/125 [==============================] - 1s 5ms/step - loss: 62679179264.0000\n",
            "Epoch 48/50\n",
            "125/125 [==============================] - 1s 7ms/step - loss: 62889996288.0000\n",
            "Epoch 49/50\n",
            "125/125 [==============================] - 1s 4ms/step - loss: 62600257536.0000\n",
            "Epoch 50/50\n",
            "125/125 [==============================] - 1s 6ms/step - loss: 62547910656.0000\n"
          ]
        }
      ]
    },
    {
      "cell_type": "code",
      "source": [
        "y_pred=model.predict(x_test)"
      ],
      "metadata": {
        "colab": {
          "base_uri": "https://localhost:8080/"
        },
        "id": "SK30ur-J0L7E",
        "outputId": "87b23f27-3866-4b4d-f202-392208386d3d"
      },
      "execution_count": 12,
      "outputs": [
        {
          "output_type": "stream",
          "name": "stdout",
          "text": [
            "32/32 [==============================] - 0s 3ms/step\n"
          ]
        }
      ]
    },
    {
      "cell_type": "code",
      "source": [
        "np.sqrt(mean_squared_error(y_test,y_pred))"
      ],
      "metadata": {
        "colab": {
          "base_uri": "https://localhost:8080/"
        },
        "id": "LBZZmViS0W0M",
        "outputId": "13e21a69-6e4f-44bd-9815-60f4ea3c3408"
      },
      "execution_count": 13,
      "outputs": [
        {
          "output_type": "execute_result",
          "data": {
            "text/plain": [
              "250545.68984255663"
            ]
          },
          "metadata": {},
          "execution_count": 13
        }
      ]
    },
    {
      "cell_type": "code",
      "source": [
        "#classical ML are better for structured data"
      ],
      "metadata": {
        "id": "UpUJU-2v0eHj"
      },
      "execution_count": null,
      "outputs": []
    }
  ]
}