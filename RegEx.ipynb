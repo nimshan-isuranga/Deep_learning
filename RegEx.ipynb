{
  "nbformat": 4,
  "nbformat_minor": 0,
  "metadata": {
    "colab": {
      "provenance": []
    },
    "kernelspec": {
      "name": "python3",
      "display_name": "Python 3"
    },
    "language_info": {
      "name": "python"
    }
  },
  "cells": [
    {
      "cell_type": "code",
      "execution_count": 3,
      "metadata": {
        "id": "RpbIb4FOK6T8"
      },
      "outputs": [],
      "source": [
        "# REgex functions \n",
        "\n",
        "#findall -returns a list contating all matches \n",
        "#search -returns a match object if there is a match anywhere in the string \n",
        "#split-return a list where the string has been split at each matchs\n",
        "#sub -replaces one or many mathches with a strings "
      ]
    },
    {
      "cell_type": "code",
      "source": [
        "import re"
      ],
      "metadata": {
        "id": "pSYSOFE7MYs1"
      },
      "execution_count": 4,
      "outputs": []
    },
    {
      "cell_type": "code",
      "source": [
        "#findall"
      ],
      "metadata": {
        "id": "NZvLzu1hMYvK"
      },
      "execution_count": 5,
      "outputs": []
    },
    {
      "cell_type": "code",
      "source": [
        "txt=\"The rain in Spain\""
      ],
      "metadata": {
        "id": "U2wqH58-MYxo"
      },
      "execution_count": 6,
      "outputs": []
    },
    {
      "cell_type": "code",
      "source": [
        "x=re.findall(\"ai\",txt)\n",
        "print(x)"
      ],
      "metadata": {
        "colab": {
          "base_uri": "https://localhost:8080/"
        },
        "id": "1S9KIlMLMY0F",
        "outputId": "1916d12f-a241-4f8a-a9bf-873fad7ba331"
      },
      "execution_count": 7,
      "outputs": [
        {
          "output_type": "stream",
          "name": "stdout",
          "text": [
            "['ai', 'ai']\n"
          ]
        }
      ]
    },
    {
      "cell_type": "code",
      "source": [
        "x=re.findall(\"Portugal\",txt)\n",
        "print(x)"
      ],
      "metadata": {
        "colab": {
          "base_uri": "https://localhost:8080/"
        },
        "id": "lcotId_OMY2Y",
        "outputId": "e70dcb0c-1c6e-4c9b-8d8b-e7e0207d87b3"
      },
      "execution_count": 8,
      "outputs": [
        {
          "output_type": "stream",
          "name": "stdout",
          "text": [
            "[]\n"
          ]
        }
      ]
    },
    {
      "cell_type": "code",
      "source": [
        "# search "
      ],
      "metadata": {
        "id": "Y1Kq9zK4MY4t"
      },
      "execution_count": 9,
      "outputs": []
    },
    {
      "cell_type": "code",
      "source": [
        "x=re.search(\"rain\",txt)\n",
        "\n",
        "print(x)\n",
        "# get match object including true and false "
      ],
      "metadata": {
        "colab": {
          "base_uri": "https://localhost:8080/"
        },
        "id": "OKbXJYftMY7Q",
        "outputId": "bbf58066-6546-4572-a28f-cc904a1b6098"
      },
      "execution_count": 10,
      "outputs": [
        {
          "output_type": "stream",
          "name": "stdout",
          "text": [
            "<re.Match object; span=(4, 8), match='rain'>\n"
          ]
        }
      ]
    },
    {
      "cell_type": "code",
      "source": [
        "if x:\n",
        "  print(\"Yes\")\n",
        "else:\n",
        "  print(\"No\")"
      ],
      "metadata": {
        "colab": {
          "base_uri": "https://localhost:8080/"
        },
        "id": "owbujWm2MY-M",
        "outputId": "8d31e94e-0f29-434b-ac90-b89fde590825"
      },
      "execution_count": 11,
      "outputs": [
        {
          "output_type": "stream",
          "name": "stdout",
          "text": [
            "Yes\n"
          ]
        }
      ]
    },
    {
      "cell_type": "code",
      "source": [
        "x.start() # starting index always focus about 1st matching index 2nd one disregarded "
      ],
      "metadata": {
        "colab": {
          "base_uri": "https://localhost:8080/"
        },
        "id": "roxYOTuVOgII",
        "outputId": "ddfece25-69a7-4124-d0df-54144618d67b"
      },
      "execution_count": 12,
      "outputs": [
        {
          "output_type": "execute_result",
          "data": {
            "text/plain": [
              "4"
            ]
          },
          "metadata": {},
          "execution_count": 12
        }
      ]
    },
    {
      "cell_type": "code",
      "source": [
        "x.end()"
      ],
      "metadata": {
        "colab": {
          "base_uri": "https://localhost:8080/"
        },
        "id": "HYYDTAYIOmJw",
        "outputId": "c27fb95f-0e67-4970-dd9e-dc32a256f546"
      },
      "execution_count": 13,
      "outputs": [
        {
          "output_type": "execute_result",
          "data": {
            "text/plain": [
              "8"
            ]
          },
          "metadata": {},
          "execution_count": 13
        }
      ]
    },
    {
      "cell_type": "code",
      "source": [
        "#split "
      ],
      "metadata": {
        "id": "tAjq5gNYOr6Z"
      },
      "execution_count": 14,
      "outputs": []
    },
    {
      "cell_type": "code",
      "source": [
        "x=re.split(\" \",txt)\n",
        "print(x)"
      ],
      "metadata": {
        "colab": {
          "base_uri": "https://localhost:8080/"
        },
        "id": "_ucmAnXMPoBf",
        "outputId": "3687004b-f424-40a5-ab41-33c596274533"
      },
      "execution_count": 15,
      "outputs": [
        {
          "output_type": "stream",
          "name": "stdout",
          "text": [
            "['The', 'rain', 'in', 'Spain']\n"
          ]
        }
      ]
    },
    {
      "cell_type": "code",
      "source": [
        "x=re.split(\"a\",txt)\n",
        "print(x)"
      ],
      "metadata": {
        "colab": {
          "base_uri": "https://localhost:8080/"
        },
        "id": "f1EFoAy-PuZl",
        "outputId": "bd7e8490-06cb-4208-e23f-6e363b844a2e"
      },
      "execution_count": 16,
      "outputs": [
        {
          "output_type": "stream",
          "name": "stdout",
          "text": [
            "['The r', 'in in Sp', 'in']\n"
          ]
        }
      ]
    },
    {
      "cell_type": "code",
      "source": [
        "x=re.split(\"a\",txt,1) # considering first a \n",
        "print(x)"
      ],
      "metadata": {
        "colab": {
          "base_uri": "https://localhost:8080/"
        },
        "id": "0moAV-aMPy18",
        "outputId": "69e0ad55-0a4e-4653-ad2f-e1b40fe8564c"
      },
      "execution_count": 17,
      "outputs": [
        {
          "output_type": "stream",
          "name": "stdout",
          "text": [
            "['The r', 'in in Spain']\n"
          ]
        }
      ]
    },
    {
      "cell_type": "code",
      "source": [
        "x=re.split(\"a\",txt,2) # considering both\n",
        "print(x)"
      ],
      "metadata": {
        "colab": {
          "base_uri": "https://localhost:8080/"
        },
        "id": "UmwsQ0vWP-qj",
        "outputId": "cb32e5fc-1d65-416e-b92c-09a4dd4a4df6"
      },
      "execution_count": 18,
      "outputs": [
        {
          "output_type": "stream",
          "name": "stdout",
          "text": [
            "['The r', 'in in Sp', 'in']\n"
          ]
        }
      ]
    },
    {
      "cell_type": "code",
      "source": [
        "# sub "
      ],
      "metadata": {
        "id": "pWCXO8TEQLDL"
      },
      "execution_count": 19,
      "outputs": []
    },
    {
      "cell_type": "code",
      "source": [
        "x=re.sub(\"a\",\"9\",txt)\n",
        "print(x)"
      ],
      "metadata": {
        "colab": {
          "base_uri": "https://localhost:8080/"
        },
        "id": "0JcNDPOCQRqZ",
        "outputId": "9e1f08dd-4daf-4cb5-bfc8-85bef97342bd"
      },
      "execution_count": 20,
      "outputs": [
        {
          "output_type": "stream",
          "name": "stdout",
          "text": [
            "The r9in in Sp9in\n"
          ]
        }
      ]
    },
    {
      "cell_type": "code",
      "source": [
        "x=re.sub(\"a\",\"9\",txt,1)\n",
        "print(x)"
      ],
      "metadata": {
        "colab": {
          "base_uri": "https://localhost:8080/"
        },
        "id": "jBE6M86HQY_-",
        "outputId": "ee6c27dc-484e-4099-c453-e17af0160426"
      },
      "execution_count": 21,
      "outputs": [
        {
          "output_type": "stream",
          "name": "stdout",
          "text": [
            "The r9in in Spain\n"
          ]
        }
      ]
    },
    {
      "cell_type": "code",
      "source": [
        "x=re.sub(\"a\",\"9\",txt,2)\n",
        "print(x)"
      ],
      "metadata": {
        "colab": {
          "base_uri": "https://localhost:8080/"
        },
        "id": "YJw0uAAYQcc4",
        "outputId": "3e663a12-ce95-43a9-bad9-87dad802f47a"
      },
      "execution_count": 22,
      "outputs": [
        {
          "output_type": "stream",
          "name": "stdout",
          "text": [
            "The r9in in Sp9in\n"
          ]
        }
      ]
    },
    {
      "cell_type": "code",
      "source": [
        "# meta charaters "
      ],
      "metadata": {
        "id": "xdhEwrT_Qe76"
      },
      "execution_count": 23,
      "outputs": []
    },
    {
      "cell_type": "code",
      "source": [
        "txt = \"The rain in Spain\"\n",
        "#Find all lower case characters alphabetically between \"a\" and \"m\":\n",
        "x = re.findall(\"[a-m]\", txt)\n",
        "print(x)"
      ],
      "metadata": {
        "colab": {
          "base_uri": "https://localhost:8080/"
        },
        "id": "fUxu9xaCR9IV",
        "outputId": "6e260ec0-8645-4eb4-e427-bfc86995b8dc"
      },
      "execution_count": 24,
      "outputs": [
        {
          "output_type": "stream",
          "name": "stdout",
          "text": [
            "['h', 'e', 'a', 'i', 'i', 'a', 'i']\n"
          ]
        }
      ]
    },
    {
      "cell_type": "code",
      "source": [
        "txt = \"That will be 59 dollars\"\n",
        "#Find all digit characters:\n",
        "x = re.findall(\"\\d\", txt)\n",
        "print(x)"
      ],
      "metadata": {
        "colab": {
          "base_uri": "https://localhost:8080/"
        },
        "id": "GdUxlIoYR93C",
        "outputId": "3c334529-388d-474b-94da-8bc6ccc3b74b"
      },
      "execution_count": 25,
      "outputs": [
        {
          "output_type": "stream",
          "name": "stdout",
          "text": [
            "['5', '9']\n"
          ]
        }
      ]
    },
    {
      "cell_type": "code",
      "source": [
        "txt = \"That will be 59 dollars\"\n",
        "#Find all space characters:\n",
        "x = re.findall(\"\\s\", txt)\n",
        "print(x)"
      ],
      "metadata": {
        "colab": {
          "base_uri": "https://localhost:8080/"
        },
        "id": "SoEjYDbvR95c",
        "outputId": "d3e413b5-af74-487a-a9ee-d0ab80105c78"
      },
      "execution_count": 26,
      "outputs": [
        {
          "output_type": "stream",
          "name": "stdout",
          "text": [
            "[' ', ' ', ' ', ' ']\n"
          ]
        }
      ]
    },
    {
      "cell_type": "code",
      "source": [
        "txt = \"hello planet\"\n",
        "#Search for a sequence that starts with \"he\", followed by two (any) characters, and an \"o\":\n",
        "x = re.findall(\"he..o\", txt)\n",
        "print(x)"
      ],
      "metadata": {
        "colab": {
          "base_uri": "https://localhost:8080/"
        },
        "id": "ZBfyz7qFR98E",
        "outputId": "7c14650e-055f-4039-e1ea-5d6157f57339"
      },
      "execution_count": 27,
      "outputs": [
        {
          "output_type": "stream",
          "name": "stdout",
          "text": [
            "['hello']\n"
          ]
        }
      ]
    },
    {
      "cell_type": "code",
      "source": [
        "txt = \"iiheppow planet\"\n",
        "#Search for a sequence that starts with \"he\", followed by two (any) characters, and an \"o\":\n",
        "x = re.findall(\"he..o\", txt)\n",
        "print(x)"
      ],
      "metadata": {
        "colab": {
          "base_uri": "https://localhost:8080/"
        },
        "id": "NLruoUgMlRri",
        "outputId": "dc622f53-fa15-4053-ca52-486cffe1c966"
      },
      "execution_count": 28,
      "outputs": [
        {
          "output_type": "stream",
          "name": "stdout",
          "text": [
            "['heppo']\n"
          ]
        }
      ]
    },
    {
      "cell_type": "code",
      "source": [
        "txt = \"hello planet\"\n",
        "#Check if the string starts with 'hello':\n",
        "x = re.findall(\"^hello\", txt)\n",
        "if x:\n",
        "  print(\"Yes\")\n",
        "else:\n",
        "  print(\"No\")\n"
      ],
      "metadata": {
        "colab": {
          "base_uri": "https://localhost:8080/"
        },
        "id": "HwmIuBd7R9-U",
        "outputId": "a7992bfa-5b01-4016-cd9e-2f0cff5dbbcc"
      },
      "execution_count": 29,
      "outputs": [
        {
          "output_type": "stream",
          "name": "stdout",
          "text": [
            "Yes\n"
          ]
        }
      ]
    },
    {
      "cell_type": "code",
      "source": [
        "txt = \"hello planet\"\n",
        "#Check if the string starts with 'hello':\n",
        "x = re.findall(\"^hi\", txt)\n",
        "if x:\n",
        "  print(\"Yes\")\n",
        "else:\n",
        "  print(\"No\")"
      ],
      "metadata": {
        "colab": {
          "base_uri": "https://localhost:8080/"
        },
        "id": "RGN5TzEqR9_7",
        "outputId": "4a1daf7e-2e9c-4cf2-fed5-81eef88fb9c5"
      },
      "execution_count": 30,
      "outputs": [
        {
          "output_type": "stream",
          "name": "stdout",
          "text": [
            "No\n"
          ]
        }
      ]
    },
    {
      "cell_type": "code",
      "source": [
        "txt = \"hello planet\"\n",
        "#Check if the string ends with 'planet':\n",
        "x = re.findall(\"planet$\", txt)\n",
        "if x:\n",
        "  print(\"Yes\")\n",
        "else:\n",
        "  print(\"No\")\n"
      ],
      "metadata": {
        "colab": {
          "base_uri": "https://localhost:8080/"
        },
        "id": "l-qjH8jfR-Bi",
        "outputId": "d55e74b2-d57b-4563-8ed7-68732f6b01d7"
      },
      "execution_count": 31,
      "outputs": [
        {
          "output_type": "stream",
          "name": "stdout",
          "text": [
            "Yes\n"
          ]
        }
      ]
    },
    {
      "cell_type": "code",
      "source": [
        "txt = \"hello planet\"\n",
        "#Check if the string ends with 'hello':\n",
        "x = re.findall(\"hello$\", txt)\n",
        "if x:\n",
        "  print(\"Yes\")\n",
        "else:\n",
        "  print(\"No\")"
      ],
      "metadata": {
        "colab": {
          "base_uri": "https://localhost:8080/"
        },
        "id": "4RIBfguZR-E_",
        "outputId": "be71450e-708a-4e9d-cc78-aebbd4233d46"
      },
      "execution_count": 32,
      "outputs": [
        {
          "output_type": "stream",
          "name": "stdout",
          "text": [
            "No\n"
          ]
        }
      ]
    },
    {
      "cell_type": "code",
      "source": [
        "txt = \"hello planet\"\n",
        "#Search for a sequence that starts with \"he\", followed by 0 or more (any) characters, and an \"o\":\n",
        "x = re.findall(\"he.*o\", txt)\n",
        "print(x)"
      ],
      "metadata": {
        "colab": {
          "base_uri": "https://localhost:8080/"
        },
        "id": "OB_rScChZGc_",
        "outputId": "abd85807-dff5-41de-c95f-421b3baf1c29"
      },
      "execution_count": 33,
      "outputs": [
        {
          "output_type": "stream",
          "name": "stdout",
          "text": [
            "['hello']\n"
          ]
        }
      ]
    },
    {
      "cell_type": "code",
      "source": [
        "txt = \"heo planet\"\n",
        "#Search for a sequence that starts with \"he\", followed by 0 or more (any) characters, and an \"o\":\n",
        "x = re.findall(\"he.*o\", txt)\n",
        "print(x)"
      ],
      "metadata": {
        "colab": {
          "base_uri": "https://localhost:8080/"
        },
        "id": "n3vSaQ-kZLpB",
        "outputId": "5f5ddc39-6693-4b8e-98c6-f187aedb8f6e"
      },
      "execution_count": 34,
      "outputs": [
        {
          "output_type": "stream",
          "name": "stdout",
          "text": [
            "['heo']\n"
          ]
        }
      ]
    },
    {
      "cell_type": "code",
      "source": [
        "txt = \"heppo planet\"\n",
        "#Search for a sequence that starts with \"hep\", followed by 0 or more \"p\", and a\n",
        "#n \"o\":\n",
        "x = re.findall(\"hep*o\", txt)\n",
        "print(x)"
      ],
      "metadata": {
        "colab": {
          "base_uri": "https://localhost:8080/"
        },
        "id": "qzqHAJ36ZTg9",
        "outputId": "c4d52e36-e1e7-4375-cc8a-2428f9da1f0b"
      },
      "execution_count": 35,
      "outputs": [
        {
          "output_type": "stream",
          "name": "stdout",
          "text": [
            "['heppo']\n"
          ]
        }
      ]
    },
    {
      "cell_type": "code",
      "source": [
        "txt = \"hello planet\"\n",
        "#Search for a sequence that starts with \"hep\", followed by 0 or more \"p\", and a\n",
        "#n \"o\":\n",
        "x = re.findall(\"hep*o\", txt)\n",
        "print(x)\n"
      ],
      "metadata": {
        "colab": {
          "base_uri": "https://localhost:8080/"
        },
        "id": "Bow4tMZ1ZYRt",
        "outputId": "50b8932b-d31f-4398-8ab1-81e48d33c472"
      },
      "execution_count": 66,
      "outputs": [
        {
          "output_type": "stream",
          "name": "stdout",
          "text": [
            "[]\n"
          ]
        }
      ]
    },
    {
      "cell_type": "code",
      "source": [
        "txt = \"hello planet\"\n",
        "#Search for a sequence that starts with \"he\", followed by 1 or more (any) cha\n",
        "#racters, and an \"o\":\n",
        "x = re.findall(\"he.+o\", txt)\n",
        "print(x)"
      ],
      "metadata": {
        "colab": {
          "base_uri": "https://localhost:8080/"
        },
        "id": "A2Ylgw4AZgEs",
        "outputId": "177992a1-6e51-47a3-e1ea-dd98a32a9d35"
      },
      "execution_count": 37,
      "outputs": [
        {
          "output_type": "stream",
          "name": "stdout",
          "text": [
            "['hello']\n"
          ]
        }
      ]
    },
    {
      "cell_type": "code",
      "source": [
        "txt = \"heo planet\"\n",
        "#Search for a sequence that starts with \"he\", followed by 1 or more (any) cha\n",
        "#racters, and an \"o\":\n",
        "x = re.findall(\"he.+o\", txt)\n",
        "print(x)"
      ],
      "metadata": {
        "colab": {
          "base_uri": "https://localhost:8080/"
        },
        "id": "Z-JMFyYsZkcI",
        "outputId": "5d4166d2-7818-4fa9-bf53-ea196edf50a0"
      },
      "execution_count": 38,
      "outputs": [
        {
          "output_type": "stream",
          "name": "stdout",
          "text": [
            "[]\n"
          ]
        }
      ]
    },
    {
      "cell_type": "code",
      "source": [
        "txt = \"hello planet\"\n",
        "#Search for a sequence that starts with \"h\", followed by 0 or 1 (any) character, and an \"llo\":\n",
        "x = re.findall(\"h.?llo\", txt)\n",
        "print(x)"
      ],
      "metadata": {
        "colab": {
          "base_uri": "https://localhost:8080/"
        },
        "id": "1ON_Nyi4Zp4Z",
        "outputId": "e55306e9-5a1f-4f04-aa34-0df3e1a84c0a"
      },
      "execution_count": 39,
      "outputs": [
        {
          "output_type": "stream",
          "name": "stdout",
          "text": [
            "['hello']\n"
          ]
        }
      ]
    },
    {
      "cell_type": "code",
      "source": [
        "txt = \"hello planet\"\n",
        "#Search for a sequence that starts with \"he\", followed by 0 or 1 (any) charac\n",
        "#ter, and an \"o\":\n",
        "x = re.findall(\"he.?o\", txt)\n",
        "print(x)\n"
      ],
      "metadata": {
        "colab": {
          "base_uri": "https://localhost:8080/"
        },
        "id": "UNltNg9sZvgV",
        "outputId": "6674ae04-773e-498e-c52c-6ef8d5b69910"
      },
      "execution_count": 40,
      "outputs": [
        {
          "output_type": "stream",
          "name": "stdout",
          "text": [
            "[]\n"
          ]
        }
      ]
    },
    {
      "cell_type": "code",
      "source": [
        "txt = \"hello planet\"\n",
        "#Search for a sequence that starts with \"he\", followed excactly 2 (any) charac\n",
        "#ters, and an \"o\":\n",
        "x = re.findall(\"he.{2}o\", txt)\n",
        "print(x)"
      ],
      "metadata": {
        "colab": {
          "base_uri": "https://localhost:8080/"
        },
        "id": "kk8WAtM3ZzZQ",
        "outputId": "e0234c0b-f32b-4062-e6de-42698519e5e8"
      },
      "execution_count": 41,
      "outputs": [
        {
          "output_type": "stream",
          "name": "stdout",
          "text": [
            "['hello']\n"
          ]
        }
      ]
    },
    {
      "cell_type": "code",
      "source": [
        "txt = \"The rain in Spain falls mainly in the plain!\"\n",
        "#Check if the string contains either \"falls\" or \"stays\":\n",
        "x = re.findall(\"falls|stays\", txt)\n",
        "print(x)\n",
        "if x:\n",
        "  print(\"Yes\")\n",
        "else:\n",
        "  print(\"No\")"
      ],
      "metadata": {
        "colab": {
          "base_uri": "https://localhost:8080/"
        },
        "id": "ZJVHVNaFZ36K",
        "outputId": "759ca3c0-c53b-4c8a-ed73-6aa0d248d83c"
      },
      "execution_count": 67,
      "outputs": [
        {
          "output_type": "stream",
          "name": "stdout",
          "text": [
            "['falls']\n",
            "Yes\n"
          ]
        }
      ]
    },
    {
      "cell_type": "code",
      "source": [
        "# special sequences "
      ],
      "metadata": {
        "id": "22dRisL8Z4lX"
      },
      "execution_count": 43,
      "outputs": []
    },
    {
      "cell_type": "code",
      "source": [
        "txt = \"The rain in Spain\"\n",
        "#Check if the string starts with \"The\":\n",
        "x = re.findall(\"\\AThe\", txt)\n",
        "if x:\n",
        "  print(\"Yes\")\n",
        "else:\n",
        "  print(\"No\")"
      ],
      "metadata": {
        "colab": {
          "base_uri": "https://localhost:8080/"
        },
        "id": "hoa0D8SoZ4od",
        "outputId": "45ea7392-18c9-4b12-fb6e-274f0eb9c311"
      },
      "execution_count": 44,
      "outputs": [
        {
          "output_type": "stream",
          "name": "stdout",
          "text": [
            "Yes\n"
          ]
        }
      ]
    },
    {
      "cell_type": "code",
      "source": [
        "txt = \"The rain in Spain\"\n",
        "#Check if \"ain\" is present at the beginning of a WORD:\n",
        "x = re.findall(r\"\\bain\", txt)\n",
        "if x:\n",
        "  print(\"Yes\")\n",
        "else:\n",
        "  print(\"No\")"
      ],
      "metadata": {
        "colab": {
          "base_uri": "https://localhost:8080/"
        },
        "id": "eqBOVAEPZ4r-",
        "outputId": "6f96627f-c5f2-4f11-ff84-74d0562353b7"
      },
      "execution_count": 45,
      "outputs": [
        {
          "output_type": "stream",
          "name": "stdout",
          "text": [
            "No\n"
          ]
        }
      ]
    },
    {
      "cell_type": "code",
      "source": [
        "txt = \"The rain in Spain\"\n",
        "#Check if \"ain\" is present at the end of a WORD:\n",
        "x = re.findall(r\"ain\\b\", txt)\n",
        "if x:\n",
        "  print(\"Yes\")\n",
        "else:\n",
        "  print(\"No\")"
      ],
      "metadata": {
        "colab": {
          "base_uri": "https://localhost:8080/"
        },
        "id": "Hzite-lWZ4ua",
        "outputId": "807d0134-f862-48ce-ef96-38dc34d7b8c9"
      },
      "execution_count": 46,
      "outputs": [
        {
          "output_type": "stream",
          "name": "stdout",
          "text": [
            "Yes\n"
          ]
        }
      ]
    },
    {
      "cell_type": "code",
      "source": [
        "txt = \"The rain in Spain\"\n",
        "#Check if \"ain\" is present, but NOT at the beginning of a word:\n",
        "x = re.findall(r\"\\Bain\", txt)\n",
        "if x:\n",
        "  print(\"Yes\")\n",
        "else:\n",
        "  print(\"No\")"
      ],
      "metadata": {
        "colab": {
          "base_uri": "https://localhost:8080/"
        },
        "id": "cf-aw5-HZ4ww",
        "outputId": "1d172c78-caac-40a1-8863-6353219ba6c7"
      },
      "execution_count": 47,
      "outputs": [
        {
          "output_type": "stream",
          "name": "stdout",
          "text": [
            "Yes\n"
          ]
        }
      ]
    },
    {
      "cell_type": "code",
      "source": [
        "txt = \"The rain in Spain\"\n",
        "#Check if \"ain\" is present, but NOT at the end of a word:\n",
        "x = re.findall(r\"ain\\B\", txt)\n",
        "if x:\n",
        "  print(\"Yes\")\n",
        "else:\n",
        "  print(\"No\")"
      ],
      "metadata": {
        "colab": {
          "base_uri": "https://localhost:8080/"
        },
        "id": "BiR7JLKRZ40J",
        "outputId": "6eca13a1-5e5a-4609-90be-a2982f300b54"
      },
      "execution_count": 48,
      "outputs": [
        {
          "output_type": "stream",
          "name": "stdout",
          "text": [
            "No\n"
          ]
        }
      ]
    },
    {
      "cell_type": "code",
      "source": [
        "txt = \"The rain in Spain\"\n",
        "#Check if the string contains any digits (numbers from 0-9):\n",
        "x = re.findall(\"\\d\", txt)\n",
        "if x:\n",
        "  print(\"Yes\")\n",
        "else:\n",
        "  print(\"No\")"
      ],
      "metadata": {
        "colab": {
          "base_uri": "https://localhost:8080/"
        },
        "id": "RplccWG4asvW",
        "outputId": "674e4afd-833c-45cf-89b8-25be8803b838"
      },
      "execution_count": 49,
      "outputs": [
        {
          "output_type": "stream",
          "name": "stdout",
          "text": [
            "No\n"
          ]
        }
      ]
    },
    {
      "cell_type": "code",
      "source": [
        "txt = \"The rain in Spain\"\n",
        "#Return a match at every no-digit character:\n",
        "x = re.findall(\"\\D\", txt)\n",
        "if x:\n",
        "  print(\"Yes\")\n",
        "else:\n",
        "  print(\"No\")"
      ],
      "metadata": {
        "colab": {
          "base_uri": "https://localhost:8080/"
        },
        "id": "yLoOuV_Vasyn",
        "outputId": "83d49d75-1202-4d5a-85b7-c04b1ea6fa00"
      },
      "execution_count": 50,
      "outputs": [
        {
          "output_type": "stream",
          "name": "stdout",
          "text": [
            "Yes\n"
          ]
        }
      ]
    },
    {
      "cell_type": "code",
      "source": [
        "txt = \"The rain in Spain\"\n",
        "#Return a match at every white-space character:\n",
        "x = re.findall(\"\\s\", txt)\n",
        "if x:\n",
        "  print(\"Yes\")\n",
        "else:\n",
        "  print(\"No\")\n"
      ],
      "metadata": {
        "colab": {
          "base_uri": "https://localhost:8080/"
        },
        "id": "3nrN9DXOas1Q",
        "outputId": "071a7cab-5139-4e7c-8274-f58820e7f02b"
      },
      "execution_count": 51,
      "outputs": [
        {
          "output_type": "stream",
          "name": "stdout",
          "text": [
            "Yes\n"
          ]
        }
      ]
    },
    {
      "cell_type": "code",
      "source": [
        "txt = \"The rain in Spain\"\n",
        "#Return a match at every NON white-space character:\n",
        "x = re.findall(\"\\S\", txt)\n",
        "if x:\n",
        "  print(\"Yes\")\n",
        "else:\n",
        "  print(\"No\")"
      ],
      "metadata": {
        "colab": {
          "base_uri": "https://localhost:8080/"
        },
        "id": "Agk_2WZ8as3m",
        "outputId": "14cf0c90-6f3f-4074-a111-eb9323c02905"
      },
      "execution_count": 52,
      "outputs": [
        {
          "output_type": "stream",
          "name": "stdout",
          "text": [
            "Yes\n"
          ]
        }
      ]
    },
    {
      "cell_type": "code",
      "source": [
        "txt = \"The rain in Spain\"\n",
        "#Return a match at every word character (characters from a to Z, digits from 0-9, and the underscore _ character):\n",
        "x = re.findall(\"\\w\", txt)\n",
        "if x:\n",
        "  print(\"Yes\")\n",
        "else:\n",
        "  print(\"No\")"
      ],
      "metadata": {
        "colab": {
          "base_uri": "https://localhost:8080/"
        },
        "id": "uZzXoebqas58",
        "outputId": "2d3d870d-b0d7-40bf-aca5-0d664713d14d"
      },
      "execution_count": 53,
      "outputs": [
        {
          "output_type": "stream",
          "name": "stdout",
          "text": [
            "Yes\n"
          ]
        }
      ]
    },
    {
      "cell_type": "code",
      "source": [
        "txt = \"The rain in Spain\"\n",
        "#Return a match at every NON word character (characters NOT between a and Z. Like \"!\", \"?\" white-space etc.):\n",
        "x = re.findall(\"\\W\", txt)\n",
        "if x:\n",
        "  print(\"Yes\")\n",
        "else:\n",
        "  print(\"No\")"
      ],
      "metadata": {
        "colab": {
          "base_uri": "https://localhost:8080/"
        },
        "id": "LxkU8Po5as9i",
        "outputId": "e402c954-4b42-4852-fdd5-c321d044e0c7"
      },
      "execution_count": 54,
      "outputs": [
        {
          "output_type": "stream",
          "name": "stdout",
          "text": [
            "Yes\n"
          ]
        }
      ]
    },
    {
      "cell_type": "code",
      "source": [
        "txt = \"The rain in Spain\"\n",
        "#Check if the string ends with \"Spain\":\n",
        "x = re.findall(\"Spain\\Z\", txt)\n",
        "if x:\n",
        "  print(\"Yes\")\n",
        "else:\n",
        "  print(\"No\")"
      ],
      "metadata": {
        "colab": {
          "base_uri": "https://localhost:8080/"
        },
        "id": "ygSWU3xQbY_n",
        "outputId": "5159af3a-17f3-45ed-e574-8c63f39a23cb"
      },
      "execution_count": 55,
      "outputs": [
        {
          "output_type": "stream",
          "name": "stdout",
          "text": [
            "Yes\n"
          ]
        }
      ]
    },
    {
      "cell_type": "code",
      "source": [
        "# SETS "
      ],
      "metadata": {
        "id": "6PamarfcbgWF"
      },
      "execution_count": 56,
      "outputs": []
    },
    {
      "cell_type": "code",
      "source": [
        "txt = \"The rain in Spain\"\n",
        "#Check if the string has any a, r, or n characters:\n",
        "x = re.findall(\"[arn]\", txt)\n",
        "if x:\n",
        "  print(\"Yes\")\n",
        "else:\n",
        "  print(\"No\")"
      ],
      "metadata": {
        "colab": {
          "base_uri": "https://localhost:8080/"
        },
        "id": "xfLlKXQNbmWt",
        "outputId": "c07dae3b-40c6-40f6-f797-e99cd7ed5e37"
      },
      "execution_count": 57,
      "outputs": [
        {
          "output_type": "stream",
          "name": "stdout",
          "text": [
            "Yes\n"
          ]
        }
      ]
    },
    {
      "cell_type": "code",
      "source": [
        "txt = \"The rain in Spain\"\n",
        "#Check if the string has any characters between a and n:\n",
        "x = re.findall(\"[a-n]\", txt)\n",
        "if x:\n",
        "  print(\"Yes\")\n",
        "else:\n",
        "  print(\"No\")"
      ],
      "metadata": {
        "colab": {
          "base_uri": "https://localhost:8080/"
        },
        "id": "sd2_TZTIbm9b",
        "outputId": "0cbc7fbf-c59b-4375-c69f-239a5fb58e6d"
      },
      "execution_count": 58,
      "outputs": [
        {
          "output_type": "stream",
          "name": "stdout",
          "text": [
            "Yes\n"
          ]
        }
      ]
    },
    {
      "cell_type": "code",
      "source": [
        "txt = \"The rain in Spain\"\n",
        "#Check if the string has other characters than a, r, or n:except(arn)\n",
        "x = re.findall(\"[^arn]\", txt)\n",
        "if x:\n",
        "  print(\"Yes\")\n",
        "else:\n",
        "  print(\"No\")"
      ],
      "metadata": {
        "colab": {
          "base_uri": "https://localhost:8080/"
        },
        "id": "r6aAs4inbm_2",
        "outputId": "7d8bca31-1e54-4b84-863c-fa631d83c9b5"
      },
      "execution_count": 59,
      "outputs": [
        {
          "output_type": "stream",
          "name": "stdout",
          "text": [
            "Yes\n"
          ]
        }
      ]
    },
    {
      "cell_type": "code",
      "source": [
        "txt = \"The rain in Spain\"\n",
        "#Check if the string has any 0, 1, 2, or 3 digits:\n",
        "x = re.findall(\"[0123]\", txt)\n",
        "if x:\n",
        "  print(\"Yes\")\n",
        "else:\n",
        "  print(\"No\")"
      ],
      "metadata": {
        "colab": {
          "base_uri": "https://localhost:8080/"
        },
        "id": "4PzMuiM8bnCN",
        "outputId": "8c35cf8f-ff27-471d-8724-b42624effc2b"
      },
      "execution_count": 60,
      "outputs": [
        {
          "output_type": "stream",
          "name": "stdout",
          "text": [
            "No\n"
          ]
        }
      ]
    },
    {
      "cell_type": "code",
      "source": [
        "txt = \"8 times before 11:45 AM\"\n",
        "#Check if the string has any digits:\n",
        "x = re.findall(\"[0-9]\", txt)\n",
        "if x:\n",
        "  print(\"Yes\")\n",
        "else:\n",
        "  print(\"No\")\n"
      ],
      "metadata": {
        "colab": {
          "base_uri": "https://localhost:8080/"
        },
        "id": "uCef75LmbnEa",
        "outputId": "5163b6cd-becd-440b-a935-7baa0bd27b56"
      },
      "execution_count": 61,
      "outputs": [
        {
          "output_type": "stream",
          "name": "stdout",
          "text": [
            "Yes\n"
          ]
        }
      ]
    },
    {
      "cell_type": "code",
      "source": [
        "txt = \"8 times before 11:45 AM\"\n",
        "#Check if the string has any two-digit numbers, from 00 to 49:\n",
        "x = re.findall(\"[1-4][0-9]\", txt)\n",
        "if x:\n",
        "  print(\"Yes\")\n",
        "else:\n",
        "  print(\"No\")"
      ],
      "metadata": {
        "colab": {
          "base_uri": "https://localhost:8080/"
        },
        "id": "wMmYvXSIbnGI",
        "outputId": "03398b93-139a-4327-c451-372be62bf595"
      },
      "execution_count": 62,
      "outputs": [
        {
          "output_type": "stream",
          "name": "stdout",
          "text": [
            "Yes\n"
          ]
        }
      ]
    },
    {
      "cell_type": "code",
      "source": [
        "txt = \"8 times before 11:45 AM\"\n",
        "#Check if the string has any characters from a to z lower case, and A to Z upp\n",
        "#er case:\n",
        "x = re.findall(\"[a-zA-Z]\", txt)\n",
        "if x:\n",
        "  print(\"Yes\")\n",
        "else:\n",
        "  print(\"No\")"
      ],
      "metadata": {
        "colab": {
          "base_uri": "https://localhost:8080/"
        },
        "id": "ggiK72H3bnJm",
        "outputId": "95abb336-bce5-4199-897e-f55c9088c896"
      },
      "execution_count": 63,
      "outputs": [
        {
          "output_type": "stream",
          "name": "stdout",
          "text": [
            "Yes\n"
          ]
        }
      ]
    },
    {
      "cell_type": "code",
      "source": [
        "txt = \"8 times before 11:45 AM\"\n",
        "#Check if the string has any + characters:\n",
        "x = re.findall(\"[+]\", txt)\n",
        "if x:\n",
        "  print(\"Yes\")\n",
        "else:\n",
        "  print(\"No\")"
      ],
      "metadata": {
        "colab": {
          "base_uri": "https://localhost:8080/"
        },
        "id": "M4e-ibGLcIFZ",
        "outputId": "5203c3de-0ce1-4b3b-f334-45c340abb350"
      },
      "execution_count": 64,
      "outputs": [
        {
          "output_type": "stream",
          "name": "stdout",
          "text": [
            "No\n"
          ]
        }
      ]
    },
    {
      "cell_type": "code",
      "source": [
        "txt = \"8 times before 11:45 AM\"\n",
        "#Check if the string has any : characters:\n",
        "x = re.findall(\"[:]\", txt)\n",
        "if x:\n",
        "  print(\"Yes\")\n",
        "else:\n",
        "  print(\"No\")"
      ],
      "metadata": {
        "colab": {
          "base_uri": "https://localhost:8080/"
        },
        "id": "U8naTyGPcRMX",
        "outputId": "02fec6f3-aa20-49ee-9262-c2a033140260"
      },
      "execution_count": 65,
      "outputs": [
        {
          "output_type": "stream",
          "name": "stdout",
          "text": [
            "Yes\n"
          ]
        }
      ]
    },
    {
      "cell_type": "code",
      "source": [],
      "metadata": {
        "id": "2L0qC4gEcVUO"
      },
      "execution_count": 65,
      "outputs": []
    }
  ]
}